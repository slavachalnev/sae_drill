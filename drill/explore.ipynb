{
 "cells": [
  {
   "cell_type": "code",
   "execution_count": 1,
   "metadata": {},
   "outputs": [
    {
     "name": "stderr",
     "output_type": "stream",
     "text": [
      "/Users/slava/safety/sae_drill/.venv/lib/python3.9/site-packages/tqdm/auto.py:21: TqdmWarning: IProgress not found. Please update jupyter and ipywidgets. See https://ipywidgets.readthedocs.io/en/stable/user_install.html\n",
      "  from .autonotebook import tqdm as notebook_tqdm\n"
     ]
    },
    {
     "data": {
      "text/plain": [
       "<torch.autograd.grad_mode.set_grad_enabled at 0x3065a65b0>"
      ]
     },
     "execution_count": 1,
     "metadata": {},
     "output_type": "execute_result"
    }
   ],
   "source": [
    "import os\n",
    "import json\n",
    "import torch\n",
    "from IPython.display import HTML, display\n",
    "from tqdm import tqdm\n",
    "from datasets import load_dataset\n",
    "from transformer_lens import HookedTransformer\n",
    "import transformer_lens.utils as tutils\n",
    "import matplotlib\n",
    "import matplotlib.pyplot as plt\n",
    "\n",
    "from config import SAEConfig\n",
    "from model import SparseAutoencoder\n",
    "\n",
    "torch.set_grad_enabled(False)\n"
   ]
  },
  {
   "cell_type": "code",
   "execution_count": 2,
   "metadata": {},
   "outputs": [
    {
     "name": "stdout",
     "output_type": "stream",
     "text": [
      "Run name: 4096-L1-0.0002-LR-0.0003\n",
      "expansion factor: 8\n",
      "Loaded pretrained model gelu-2l into HookedTransformer\n"
     ]
    }
   ],
   "source": [
    "checkpoint_dir = \"checkpoints/2024-04-13_12-30-52\"  # expansion factor = 8\n",
    "# checkpoint_dir = \"checkpoints/2024-04-13_14-10-45\"  # expansion factor = 16\n",
    "\n",
    "with open(os.path.join(checkpoint_dir, \"config.json\")) as f:\n",
    "    cfg = json.load(f)\n",
    "cfg = SAEConfig(**cfg)\n",
    "cfg.device = \"cuda\" if torch.cuda.is_available() else \"cpu\"\n",
    "\n",
    "print(\"expansion factor:\", cfg.expansion_factor)\n",
    "\n",
    "sae = SparseAutoencoder(cfg)\n",
    "sae.load_state_dict(torch.load(os.path.join(checkpoint_dir, \"final_model.pt\"), map_location=torch.device(cfg.device)))\n",
    "\n",
    "model = HookedTransformer.from_pretrained(cfg.model_name, device=cfg.device)\n",
    "\n",
    "hook_point = cfg.hook_point.format(layer=cfg.hook_point_layer)\n"
   ]
  },
  {
   "cell_type": "code",
   "execution_count": 60,
   "metadata": {},
   "outputs": [
    {
     "name": "stdout",
     "output_type": "stream",
     "text": [
      "Run name: 8192-L1-0.0002-LR-0.0003\n",
      "expansion factor: 16\n"
     ]
    },
    {
     "data": {
      "text/plain": [
       "<All keys matched successfully>"
      ]
     },
     "execution_count": 60,
     "metadata": {},
     "output_type": "execute_result"
    }
   ],
   "source": [
    "# load large sae\n",
    "large_checkpoint = \"checkpoints/2024-04-13_14-10-45\"  # expansion factor = 16\n",
    "with open(os.path.join(large_checkpoint, \"config.json\")) as f:\n",
    "    l_cfg = json.load(f)\n",
    "l_cfg = SAEConfig(**l_cfg)\n",
    "l_cfg.device = \"cuda\" if torch.cuda.is_available() else \"cpu\"\n",
    "\n",
    "print(\"expansion factor:\", l_cfg.expansion_factor)\n",
    "\n",
    "large_sae = SparseAutoencoder(l_cfg)\n",
    "large_sae.load_state_dict(torch.load(os.path.join(large_checkpoint, \"final_model.pt\"), map_location=torch.device(l_cfg.device)))\n"
   ]
  },
  {
   "cell_type": "code",
   "execution_count": 3,
   "metadata": {},
   "outputs": [
    {
     "name": "stderr",
     "output_type": "stream",
     "text": [
      "huggingface/tokenizers: The current process just got forked, after parallelism has already been used. Disabling parallelism to avoid deadlocks...\n",
      "To disable this warning, you can either:\n",
      "\t- Avoid using `tokenizers` before the fork if possible\n",
      "\t- Explicitly set the environment variable TOKENIZERS_PARALLELISM=(true | false)\n"
     ]
    }
   ],
   "source": [
    "data = load_dataset(\"NeelNanda/c4-code-20k\", split=\"train\")\n",
    "\n",
    "tokenized_data = tutils.tokenize_and_concatenate(data, model.tokenizer, max_length=128)\n",
    "tokenized_data = tokenized_data.shuffle(42)\n",
    "all_tokens = tokenized_data[\"tokens\"]"
   ]
  },
  {
   "cell_type": "code",
   "execution_count": 62,
   "metadata": {},
   "outputs": [
    {
     "name": "stderr",
     "output_type": "stream",
     "text": [
      "100%|██████████| 10/10 [00:08<00:00,  1.15it/s]"
     ]
    },
    {
     "name": "stdout",
     "output_type": "stream",
     "text": [
      "torch.Size([327680])\n"
     ]
    },
    {
     "name": "stderr",
     "output_type": "stream",
     "text": [
      "\n"
     ]
    }
   ],
   "source": [
    "feature_id = 8\n",
    "\n",
    "def get_feature_acts(feature_id, batch_size, n_batches):\n",
    "    tokens = all_tokens[:batch_size*n_batches]\n",
    "    all_acts = []\n",
    "    for i in tqdm(range(n_batches)):\n",
    "        batch = tokens[i*batch_size:(i+1)*batch_size]\n",
    "        _, cache = model.run_with_cache(batch,\n",
    "                                        stop_at_layer=cfg.hook_point_layer + 1,\n",
    "                                        names_filter=[hook_point],\n",
    "                                    )\n",
    "        in_acts = cache[hook_point]\n",
    "        in_acts = in_acts.reshape(-1, cfg.d_in)\n",
    "        sae_out, feature_acts, loss, mse_loss, l1_loss = sae(in_acts)\n",
    "\n",
    "        feature_acts = feature_acts[:, feature_id].detach().cpu()\n",
    "        all_acts.append(feature_acts)\n",
    "        \n",
    "    all_acts = torch.cat(all_acts, dim=0)\n",
    "    return all_acts, tokens\n",
    "\n",
    "\n",
    "feature_acts, tokens = get_feature_acts(feature_id=feature_id, batch_size=256, n_batches=10)\n",
    "print(feature_acts.shape)"
   ]
  },
  {
   "cell_type": "code",
   "execution_count": 63,
   "metadata": {},
   "outputs": [],
   "source": [
    "def single_neuron(tokens: torch.Tensor, acts: torch.Tensor, ft_id, model, top_n=10):\n",
    "    # taken from my sparse distillation code.\n",
    "    # tokens and acts shapes are both (n_examples, len_example)\n",
    "    max_acts = acts.max(dim=1)\n",
    "    sorted_top_indices = torch.argsort(max_acts.values, descending=True)[:top_n]\n",
    "\n",
    "    # Process only the top_n activations and corresponding tokens\n",
    "    snippets = []\n",
    "    for idx in sorted_top_indices:\n",
    "        snippet = {}\n",
    "        example = tokens[idx]\n",
    "        snippet[\"text\"] = model.to_string(example)\n",
    "        snippet[\"max_activation\"] = float(acts[idx].max())\n",
    "        snippet[\"token_activation_pairs\"] = [\n",
    "            [\n",
    "                model.to_string(example[j]).replace(\" \", \"·\")\n",
    "                                                      .replace(\"\\n\", \"↩\" + \"\\n\")\n",
    "                                                      .replace(\"\\t\", \"→\"),\n",
    "                float(acts[idx, j])\n",
    "            ]\n",
    "            for j in range(example.shape[0])\n",
    "        ]\n",
    "        snippets.append(snippet)\n",
    "\n",
    "    res = {\n",
    "        \"neuron_id\": str(ft_id),\n",
    "        \"snippets\": snippets\n",
    "    }\n",
    "    return res"
   ]
  },
  {
   "cell_type": "code",
   "execution_count": 64,
   "metadata": {},
   "outputs": [
    {
     "name": "stdout",
     "output_type": "stream",
     "text": [
      "feature id:  8\n",
      "\n"
     ]
    },
    {
     "data": {
      "text/html": [
       "<div style=\"word-wrap: break-word; margin-bottom: 10px;\"><strong>Snippet number:</strong> 0<br><strong>Max activation:</strong> 7.319802761077881<br><span style=\"background-color: #fff5f0; margin-right: 0px;\"><|BOS|></span><span style=\"background-color: #fff5f0; margin-right: 0px;\">·to</span><span style=\"background-color: #fff5f0; margin-right: 0px;\">·the</span><span style=\"background-color: #fff5f0; margin-right: 0px;\">·public</span><span style=\"background-color: #fff5f0; margin-right: 0px;\">.</span><span style=\"background-color: #fff5f0; margin-right: 0px;\">·The</span><span style=\"background-color: #fff5f0; margin-right: 0px;\">·bus</span><span style=\"background-color: #fff5f0; margin-right: 0px;\">ier</span><span style=\"background-color: #fff5f0; margin-right: 0px;\">·tourist</span><span style=\"background-color: #fff5f0; margin-right: 0px;\">·areas</span><span style=\"background-color: #fff5f0; margin-right: 0px;\">·of</span><span style=\"background-color: #fff5f0; margin-right: 0px;\">·the</span><span style=\"background-color: #fff5f0; margin-right: 0px;\">·south</span><span style=\"background-color: #fff5f0; margin-right: 0px;\">·coast</span><span style=\"background-color: #fff5f0; margin-right: 0px;\">·and</span><span style=\"background-color: #fff5f0; margin-right: 0px;\">·the</span><span style=\"background-color: #fff5f0; margin-right: 0px;\">·town</span><span style=\"background-color: #fff5f0; margin-right: 0px;\">·of</span><span style=\"background-color: #fff5f0; margin-right: 0px;\">·Port</span><span style=\"background-color: #fff5f0; margin-right: 0px;\">ima</span><span style=\"background-color: #fff5f0; margin-right: 0px;\">o</span><span style=\"background-color: #fff5f0; margin-right: 0px;\">·with</span><span style=\"background-color: #fff5f0; margin-right: 0px;\">·shopping</span><span style=\"background-color: #fff5f0; margin-right: 0px;\">·m</span><span style=\"background-color: #fff5f0; margin-right: 0px;\">alls</span><span style=\"background-color: #fff5f0; margin-right: 0px;\">,</span><span style=\"background-color: #fff5f0; margin-right: 0px;\">·night</span><span style=\"background-color: #fff5f0; margin-right: 0px;\">·life</span><span style=\"background-color: #fff5f0; margin-right: 0px;\">,</span><span style=\"background-color: #fff5f0; margin-right: 0px;\">·s</span><span style=\"background-color: #fff5f0; margin-right: 0px;\">ard</span><span style=\"background-color: #fff5f0; margin-right: 0px;\">ine</span><span style=\"background-color: #fff5f0; margin-right: 0px;\">·restaurants</span><span style=\"background-color: #fff5f0; margin-right: 0px;\">,</span><span style=\"background-color: #fff5f0; margin-right: 0px;\">·sandy</span><span style=\"background-color: #fff5f0; margin-right: 0px;\">·beaches</span><span style=\"background-color: #fff5f0; margin-right: 0px;\">·and</span><span style=\"background-color: #fff5f0; margin-right: 0px;\">·mar</span><span style=\"background-color: #fff5f0; margin-right: 0px;\">ina</span><span style=\"background-color: #fff5f0; margin-right: 0px;\">·is</span><span style=\"background-color: #fff5f0; margin-right: 0px;\">·just</span><span style=\"background-color: #fff5f0; margin-right: 0px;\">·2</span><span style=\"background-color: #fff5f0; margin-right: 0px;\">5</span><span style=\"background-color: #fff5f0; margin-right: 0px;\">·minutes</span><span style=\"background-color: #fff5f0; margin-right: 0px;\">·away</span><span style=\"background-color: #fff5f0; margin-right: 0px;\">.</span><span style=\"background-color: #fff5f0; margin-right: 0px;\">·Take</span><span style=\"background-color: #fff5f0; margin-right: 0px;\">·a</span><span style=\"background-color: #fff5f0; margin-right: 0px;\">·boat</span><span style=\"background-color: #fff5f0; margin-right: 0px;\">·trip</span><span style=\"background-color: #fff5f0; margin-right: 0px;\">·from</span><span style=\"background-color: #fff5f0; margin-right: 0px;\">·Port</span><span style=\"background-color: #fff5f0; margin-right: 0px;\">ima</span><span style=\"background-color: #fff5f0; margin-right: 0px;\">o</span><span style=\"background-color: #fff5f0; margin-right: 0px;\">·or</span><span style=\"background-color: #fff5f0; margin-right: 0px;\">·Lag</span><span style=\"background-color: #fff5f0; margin-right: 0px;\">os</span><span style=\"background-color: #fff5f0; margin-right: 0px;\">·to</span><span style=\"background-color: #fff5f0; margin-right: 0px;\">·watch</span><span style=\"background-color: #fff5f0; margin-right: 0px;\">·the</span><span style=\"background-color: #fff5f0; margin-right: 0px;\">·d</span><span style=\"background-color: #fff5f0; margin-right: 0px;\">olphins</span><span style=\"background-color: #fff5f0; margin-right: 0px;\">·in</span><span style=\"background-color: #fff5f0; margin-right: 0px;\">·their</span><span style=\"background-color: #fff5f0; margin-right: 0px;\">·natural</span><span style=\"background-color: #fff5f0; margin-right: 0px;\">·habitat</span><span style=\"background-color: #fff5f0; margin-right: 0px;\">.</span><span style=\"background-color: #fff5f0; margin-right: 0px;\">↩\n",
       "</span><span style=\"background-color: #fff5f0; margin-right: 0px;\">Port</span><span style=\"background-color: #fff5f0; margin-right: 0px;\">ima</span><span style=\"background-color: #fff5f0; margin-right: 0px;\">o</span><span style=\"background-color: #fff5f0; margin-right: 0px;\">·has</span><span style=\"background-color: #fff5f0; margin-right: 0px;\">·now</span><span style=\"background-color: #fff5f0; margin-right: 0px;\">·surpassed</span><span style=\"background-color: #fff5f0; margin-right: 0px;\">·Far</span><span style=\"background-color: #fff5f0; margin-right: 0px;\">o</span><span style=\"background-color: #fff5f0; margin-right: 0px;\">·to</span><span style=\"background-color: #fff5f0; margin-right: 0px;\">·become</span><span style=\"background-color: #fff5f0; margin-right: 0px;\">·the</span><span style=\"background-color: #fff5f0; margin-right: 0px;\">·shopping</span><span style=\"background-color: #fff5f0; margin-right: 0px;\">·me</span><span style=\"background-color: #fff5f0; margin-right: 0px;\">cca</span><span style=\"background-color: #fff5f0; margin-right: 0px;\">·of</span><span style=\"background-color: #fff5f0; margin-right: 0px;\">·the</span><span style=\"background-color: #fff5f0; margin-right: 0px;\">·Al</span><span style=\"background-color: #fff5f0; margin-right: 0px;\">gar</span><span style=\"background-color: #fff5f0; margin-right: 0px;\">ve</span><span style=\"background-color: #fff5f0; margin-right: 0px;\">·and</span><span style=\"background-color: #fff5f0; margin-right: 0px;\">·is</span><span style=\"background-color: #fff5f0; margin-right: 0px;\">·just</span><span style=\"background-color: #fff5f0; margin-right: 0px;\">·2</span><span style=\"background-color: #fff5f0; margin-right: 0px;\">0</span><span style=\"background-color: #fff5f0; margin-right: 0px;\">·minutes</span><span style=\"background-color: #fff5f0; margin-right: 0px;\">·drive</span><span style=\"background-color: #fff5f0; margin-right: 0px;\">·from</span><span style=\"background-color: #fff5f0; margin-right: 0px;\">·Mon</span><span style=\"background-color: #fff5f0; margin-right: 0px;\">ch</span><span style=\"background-color: #fff5f0; margin-right: 0px;\">ique</span><span style=\"background-color: #fff5f0; margin-right: 0px;\">.</span><span style=\"background-color: #fff5f0; margin-right: 0px;\">·Bo</span><span style=\"background-color: #fff5f0; margin-right: 0px;\">asting</span><span style=\"background-color: #fff5f0; margin-right: 0px;\">·the</span><span style=\"background-color: #f14432; margin-right: 0px;\">·largest</span><span style=\"background-color: #fff5f0; margin-right: 0px;\">·shopping</span><span style=\"background-color: #fff5f0; margin-right: 0px;\">·mall</span><span style=\"background-color: #fff5f0; margin-right: 0px;\">·on</span><span style=\"background-color: #fff5f0; margin-right: 0px;\">·the</span><span style=\"background-color: #fff5f0; margin-right: 0px;\">·Al</span><span style=\"background-color: #fff5f0; margin-right: 0px;\">gar</span><span style=\"background-color: #fff5f0; margin-right: 0px;\">ve</span><span style=\"background-color: #fff5f0; margin-right: 0px;\">,</span><span style=\"background-color: #fff5f0; margin-right: 0px;\">·Aqu</span><span style=\"background-color: #fff5f0; margin-right: 0px;\">a</span><span style=\"background-color: #fff5f0; margin-right: 0px;\">·Port</span><span style=\"background-color: #fff5f0; margin-right: 0px;\">ima</span><span style=\"background-color: #fff5f0; margin-right: 0px;\">o</span><span style=\"background-color: #fff5f0; margin-right: 0px;\">·is</span><span style=\"background-color: #fff5f0; margin-right: 0px;\">·situated</span><span style=\"background-color: #fff5f0; margin-right: 0px;\">·just</span><span style=\"background-color: #fff5f0; margin-right: 0px;\">·2</span><span style=\"background-color: #fff5f0; margin-right: 0px;\">0</span><span style=\"background-color: #fff5f0; margin-right: 0px;\">·minutes</span><span style=\"background-color: #fff5f0; margin-right: 0px;\">·drive</span><span style=\"background-color: #fff5f0; margin-right: 0px;\">·from</span><span style=\"background-color: #fff5f0; margin-right: 0px;\">·Mon</span><span style=\"background-color: #fff5f0; margin-right: 0px;\">ch</span><span style=\"background-color: #fff5f0; margin-right: 0px;\">ique</span><span style=\"background-color: #fff5f0; margin-right: 0px;\">,</span></div>"
      ],
      "text/plain": [
       "<IPython.core.display.HTML object>"
      ]
     },
     "metadata": {},
     "output_type": "display_data"
    },
    {
     "data": {
      "text/html": [
       "<div style=\"word-wrap: break-word; margin-bottom: 10px;\"><strong>Snippet number:</strong> 1<br><strong>Max activation:</strong> 6.961522579193115<br><span style=\"background-color: #fff5f0; margin-right: 0px;\"><|BOS|></span><span style=\"background-color: #fff5f0; margin-right: 0px;\">·U</span><span style=\"background-color: #fff5f0; margin-right: 0px;\">.</span><span style=\"background-color: #fff5f0; margin-right: 0px;\">S</span><span style=\"background-color: #fff5f0; margin-right: 0px;\">.</span><span style=\"background-color: #fff5f0; margin-right: 0px;\">·manufacturing</span><span style=\"background-color: #fff5f0; margin-right: 0px;\">'s</span><span style=\"background-color: #fff5f0; margin-right: 0px;\">·exports</span><span style=\"background-color: #fff5f0; margin-right: 0px;\">.</span><span style=\"background-color: #fff5f0; margin-right: 0px;\">·Iron</span><span style=\"background-color: #fff5f0; margin-right: 0px;\">ically</span><span style=\"background-color: #fff5f0; margin-right: 0px;\">,</span><span style=\"background-color: #fff5f0; margin-right: 0px;\">·the</span><span style=\"background-color: #fff5f0; margin-right: 0px;\">·stimulus</span><span style=\"background-color: #fff5f0; margin-right: 0px;\">·may</span><span style=\"background-color: #fff5f0; margin-right: 0px;\">·have</span><span style=\"background-color: #fff5f0; margin-right: 0px;\">·weakened</span><span style=\"background-color: #fff5f0; margin-right: 0px;\">·the</span><span style=\"background-color: #fff5f0; margin-right: 0px;\">·dollar</span><span style=\"background-color: #fff5f0; margin-right: 0px;\">·a</span><span style=\"background-color: #fff5f0; margin-right: 0px;\">·bit</span><span style=\"background-color: #fff5f0; margin-right: 0px;\">,</span><span style=\"background-color: #fff5f0; margin-right: 0px;\">·but</span><span style=\"background-color: #fff5f0; margin-right: 0px;\">·to</span><span style=\"background-color: #fff5f0; margin-right: 0px;\">·the</span><span style=\"background-color: #fff5f0; margin-right: 0px;\">·manufacturers</span><span style=\"background-color: #fff5f0; margin-right: 0px;\">'</span><span style=\"background-color: #fff5f0; margin-right: 0px;\">·advantage</span><span style=\"background-color: #fff5f0; margin-right: 0px;\">.</span><span style=\"background-color: #fff5f0; margin-right: 0px;\">↩\n",
       "</span><span style=\"background-color: #fff5f0; margin-right: 0px;\">The</span><span style=\"background-color: #fff5f0; margin-right: 0px;\">·P</span><span style=\"background-color: #fff5f0; margin-right: 0px;\">ending</span><span style=\"background-color: #fff5f0; margin-right: 0px;\">·Home</span><span style=\"background-color: #fff5f0; margin-right: 0px;\">·Sales</span><span style=\"background-color: #fff5f0; margin-right: 0px;\">·Index</span><span style=\"background-color: #fff5f0; margin-right: 0px;\">,</span><span style=\"background-color: #fff5f0; margin-right: 0px;\">·a</span><span style=\"background-color: #fff5f0; margin-right: 0px;\">·forward</span><span style=\"background-color: #fff5f0; margin-right: 0px;\">-</span><span style=\"background-color: #fff5f0; margin-right: 0px;\">looking</span><span style=\"background-color: #fff5f0; margin-right: 0px;\">·indicator</span><span style=\"background-color: #fff5f0; margin-right: 0px;\">·based</span><span style=\"background-color: #fff5f0; margin-right: 0px;\">·on</span><span style=\"background-color: #fff5f0; margin-right: 0px;\">·contracts</span><span style=\"background-color: #fff5f0; margin-right: 0px;\">·signed</span><span style=\"background-color: #fff5f0; margin-right: 0px;\">·in</span><span style=\"background-color: #fff5f0; margin-right: 0px;\">·September</span><span style=\"background-color: #fff5f0; margin-right: 0px;\">,</span><span style=\"background-color: #fff5f0; margin-right: 0px;\">·rose</span><span style=\"background-color: #fff5f0; margin-right: 0px;\">·6</span><span style=\"background-color: #fff5f0; margin-right: 0px;\">.</span><span style=\"background-color: #fff5f0; margin-right: 0px;\">1</span><span style=\"background-color: #fff5f0; margin-right: 0px;\">·percent</span><span style=\"background-color: #fff5f0; margin-right: 0px;\">·to</span><span style=\"background-color: #fff5f0; margin-right: 0px;\">·1</span><span style=\"background-color: #fff5f0; margin-right: 0px;\">1</span><span style=\"background-color: #fff5f0; margin-right: 0px;\">0</span><span style=\"background-color: #fff5f0; margin-right: 0px;\">.</span><span style=\"background-color: #fff5f0; margin-right: 0px;\">1</span><span style=\"background-color: #fff5f0; margin-right: 0px;\">·from</span><span style=\"background-color: #fff5f0; margin-right: 0px;\">·a</span><span style=\"background-color: #fff5f0; margin-right: 0px;\">·reading</span><span style=\"background-color: #fff5f0; margin-right: 0px;\">·of</span><span style=\"background-color: #fff5f0; margin-right: 0px;\">·1</span><span style=\"background-color: #fff5f0; margin-right: 0px;\">0</span><span style=\"background-color: #fff5f0; margin-right: 0px;\">3</span><span style=\"background-color: #fff5f0; margin-right: 0px;\">.</span><span style=\"background-color: #fff5f0; margin-right: 0px;\">8</span><span style=\"background-color: #fff5f0; margin-right: 0px;\">·in</span><span style=\"background-color: #fff5f0; margin-right: 0px;\">·August</span><span style=\"background-color: #fff5f0; margin-right: 0px;\">,</span><span style=\"background-color: #fff5f0; margin-right: 0px;\">·and</span><span style=\"background-color: #fff5f0; margin-right: 0px;\">·is</span><span style=\"background-color: #fff5f0; margin-right: 0px;\">·2</span><span style=\"background-color: #fff5f0; margin-right: 0px;\">1</span><span style=\"background-color: #fff5f0; margin-right: 0px;\">.</span><span style=\"background-color: #fff5f0; margin-right: 0px;\">2</span><span style=\"background-color: #fff5f0; margin-right: 0px;\">·percent</span><span style=\"background-color: #fff5f0; margin-right: 0px;\">·higher</span><span style=\"background-color: #fff5f0; margin-right: 0px;\">·than</span><span style=\"background-color: #fff5f0; margin-right: 0px;\">·September</span><span style=\"background-color: #fff5f0; margin-right: 0px;\">·2</span><span style=\"background-color: #fff5f0; margin-right: 0px;\">0</span><span style=\"background-color: #fff5f0; margin-right: 0px;\">0</span><span style=\"background-color: #fff5f0; margin-right: 0px;\">8</span><span style=\"background-color: #fff5f0; margin-right: 0px;\">·when</span><span style=\"background-color: #fff5f0; margin-right: 0px;\">·it</span><span style=\"background-color: #fff5f0; margin-right: 0px;\">·stood</span><span style=\"background-color: #fff5f0; margin-right: 0px;\">·at</span><span style=\"background-color: #fff5f0; margin-right: 0px;\">·9</span><span style=\"background-color: #fff5f0; margin-right: 0px;\">0</span><span style=\"background-color: #fff5f0; margin-right: 0px;\">.</span><span style=\"background-color: #fff5f0; margin-right: 0px;\">9</span><span style=\"background-color: #fff5f0; margin-right: 0px;\">.</span><span style=\"background-color: #fff5f0; margin-right: 0px;\">·The</span><span style=\"background-color: #fff5f0; margin-right: 0px;\">·gain</span><span style=\"background-color: #fff5f0; margin-right: 0px;\">·from</span><span style=\"background-color: #fff5f0; margin-right: 0px;\">·a</span><span style=\"background-color: #fff5f0; margin-right: 0px;\">·year</span><span style=\"background-color: #fff5f0; margin-right: 0px;\">·ago</span><span style=\"background-color: #fff5f0; margin-right: 0px;\">·is</span><span style=\"background-color: #fff5f0; margin-right: 0px;\">·the</span><span style=\"background-color: #f14432; margin-right: 0px;\">·largest</span><span style=\"background-color: #fff0e9; margin-right: 0px;\">·annual</span><span style=\"background-color: #fff5f0; margin-right: 0px;\">·increase</span><span style=\"background-color: #fff5f0; margin-right: 0px;\">·on</span><span style=\"background-color: #fff5f0; margin-right: 0px;\">·record</span><span style=\"background-color: #fff5f0; margin-right: 0px;\">,</span><span style=\"background-color: #fff5f0; margin-right: 0px;\">·and</span><span style=\"background-color: #fff5f0; margin-right: 0px;\">·the</span><span style=\"background-color: #fff5f0; margin-right: 0px;\">·index</span><span style=\"background-color: #fff5f0; margin-right: 0px;\">·is</span><span style=\"background-color: #fff5f0; margin-right: 0px;\">·at</span><span style=\"background-color: #fff5f0; margin-right: 0px;\">·the</span><span style=\"background-color: #fff5f0; margin-right: 0px;\">·highest</span><span style=\"background-color: #fff5f0; margin-right: 0px;\">·level</span><span style=\"background-color: #fff5f0; margin-right: 0px;\">·since</span><span style=\"background-color: #fff5f0; margin-right: 0px;\">·December</span><span style=\"background-color: #fff5f0; margin-right: 0px;\">·2</span><span style=\"background-color: #fff5f0; margin-right: 0px;\">0</span><span style=\"background-color: #fff5f0; margin-right: 0px;\">0</span><span style=\"background-color: #fff5f0; margin-right: 0px;\">6</span><span style=\"background-color: #fff5f0; margin-right: 0px;\">·when</span><span style=\"background-color: #fff5f0; margin-right: 0px;\">·it</span><span style=\"background-color: #fff5f0; margin-right: 0px;\">·was</span><span style=\"background-color: #fff5f0; margin-right: 0px;\">·1</span><span style=\"background-color: #fff5f0; margin-right: 0px;\">1</span></div>"
      ],
      "text/plain": [
       "<IPython.core.display.HTML object>"
      ]
     },
     "metadata": {},
     "output_type": "display_data"
    },
    {
     "data": {
      "text/html": [
       "<div style=\"word-wrap: break-word; margin-bottom: 10px;\"><strong>Snippet number:</strong> 2<br><strong>Max activation:</strong> 6.897254467010498<br><span style=\"background-color: #fff5f0; margin-right: 0px;\"><|BOS|></span><span style=\"background-color: #fff5f0; margin-right: 0px;\">Time</span><span style=\"background-color: #fff5f0; margin-right: 0px;\">St</span><span style=\"background-color: #fff5f0; margin-right: 0px;\">amp</span><span style=\"background-color: #fff5f0; margin-right: 0px;\">():</span><span style=\"background-color: #fff5f0; margin-right: 0px;\">↩\n",
       "···</span><span style=\"background-color: #fff5f0; margin-right: 0px;\">·now</span><span style=\"background-color: #fff5f0; margin-right: 0px;\">·=</span><span style=\"background-color: #fff5f0; margin-right: 0px;\">·datetime</span><span style=\"background-color: #fff5f0; margin-right: 0px;\">.</span><span style=\"background-color: #fff5f0; margin-right: 0px;\">datetime</span><span style=\"background-color: #fff5f0; margin-right: 0px;\">.</span><span style=\"background-color: #fff5f0; margin-right: 0px;\">now</span><span style=\"background-color: #fff5f0; margin-right: 0px;\">()</span><span style=\"background-color: #fff5f0; margin-right: 0px;\">↩\n",
       "···</span><span style=\"background-color: #fff5f0; margin-right: 0px;\">·return</span><span style=\"background-color: #fff5f0; margin-right: 0px;\">·str</span><span style=\"background-color: #fff5f0; margin-right: 0px;\">(</span><span style=\"background-color: #fff5f0; margin-right: 0px;\">now</span><span style=\"background-color: #fff5f0; margin-right: 0px;\">.</span><span style=\"background-color: #fff5f0; margin-right: 0px;\">year</span><span style=\"background-color: #fff5f0; margin-right: 0px;\">)</span><span style=\"background-color: #fff5f0; margin-right: 0px;\">·+</span><span style=\"background-color: #fff5f0; margin-right: 0px;\">·\".\"</span><span style=\"background-color: #fff5f0; margin-right: 0px;\">·+</span><span style=\"background-color: #fff5f0; margin-right: 0px;\">·str</span><span style=\"background-color: #fff5f0; margin-right: 0px;\">(</span><span style=\"background-color: #fff5f0; margin-right: 0px;\">now</span><span style=\"background-color: #fff5f0; margin-right: 0px;\">.</span><span style=\"background-color: #fff5f0; margin-right: 0px;\">month</span><span style=\"background-color: #fff5f0; margin-right: 0px;\">)</span><span style=\"background-color: #fff5f0; margin-right: 0px;\">·+</span><span style=\"background-color: #fff5f0; margin-right: 0px;\">·\".\"</span><span style=\"background-color: #fff5f0; margin-right: 0px;\">·+</span><span style=\"background-color: #fff5f0; margin-right: 0px;\">·str</span><span style=\"background-color: #fff5f0; margin-right: 0px;\">(</span><span style=\"background-color: #fff5f0; margin-right: 0px;\">now</span><span style=\"background-color: #fff5f0; margin-right: 0px;\">.</span><span style=\"background-color: #fff5f0; margin-right: 0px;\">day</span><span style=\"background-color: #fff5f0; margin-right: 0px;\">)</span><span style=\"background-color: #fff5f0; margin-right: 0px;\">↩\n",
       "</span><span style=\"background-color: #fff5f0; margin-right: 0px;\"><|EOS|></span><span style=\"background-color: #fff5f0; margin-right: 0px;\">High</span><span style=\"background-color: #fff5f0; margin-right: 0px;\">gro</span><span style=\"background-color: #fff5f0; margin-right: 0px;\">ve</span><span style=\"background-color: #fff5f0; margin-right: 0px;\">·is</span><span style=\"background-color: #fff5f0; margin-right: 0px;\">·one</span><span style=\"background-color: #fff5f0; margin-right: 0px;\">·of</span><span style=\"background-color: #fff5f0; margin-right: 0px;\">·the</span><span style=\"background-color: #fff5f0; margin-right: 0px;\">·UK</span><span style=\"background-color: #fff5f0; margin-right: 0px;\">’</span><span style=\"background-color: #fff5f0; margin-right: 0px;\">s</span><span style=\"background-color: #fcc2aa; margin-right: 0px;\">·fastest</span><span style=\"background-color: #fee4d8; margin-right: 0px;\">·growing</span><span style=\"background-color: #fff5f0; margin-right: 0px;\">·bed</span><span style=\"background-color: #fff5f0; margin-right: 0px;\">·brands</span><span style=\"background-color: #fff5f0; margin-right: 0px;\">·and</span><span style=\"background-color: #fff5f0; margin-right: 0px;\">·they</span><span style=\"background-color: #fff5f0; margin-right: 0px;\">·currently</span><span style=\"background-color: #fff5f0; margin-right: 0px;\">·produce</span><span style=\"background-color: #fff5f0; margin-right: 0px;\">·approximately</span><span style=\"background-color: #fff5f0; margin-right: 0px;\">·5</span><span style=\"background-color: #fff5f0; margin-right: 0px;\">0</span><span style=\"background-color: #fff5f0; margin-right: 0px;\">0</span><span style=\"background-color: #fff5f0; margin-right: 0px;\">0</span><span style=\"background-color: #fff5f0; margin-right: 0px;\">·beds</span><span style=\"background-color: #fff5f0; margin-right: 0px;\">·a</span><span style=\"background-color: #fff5f0; margin-right: 0px;\">·week</span><span style=\"background-color: #fff5f0; margin-right: 0px;\">·from</span><span style=\"background-color: #fff5f0; margin-right: 0px;\">·their</span><span style=\"background-color: #fff5f0; margin-right: 0px;\">·new</span><span style=\"background-color: #fff5f0; margin-right: 0px;\">·manufacturing</span><span style=\"background-color: #fff5f0; margin-right: 0px;\">·plant</span><span style=\"background-color: #fff5f0; margin-right: 0px;\">·in</span><span style=\"background-color: #fff5f0; margin-right: 0px;\">·L</span><span style=\"background-color: #fff5f0; margin-right: 0px;\">ivers</span><span style=\"background-color: #fff5f0; margin-right: 0px;\">edge</span><span style=\"background-color: #fff5f0; margin-right: 0px;\">,</span><span style=\"background-color: #fff5f0; margin-right: 0px;\">·West</span><span style=\"background-color: #fff5f0; margin-right: 0px;\">·Yorkshire</span><span style=\"background-color: #fff5f0; margin-right: 0px;\">·–</span><span style=\"background-color: #fff5f0; margin-right: 0px;\">·one</span><span style=\"background-color: #fff5f0; margin-right: 0px;\">·of</span><span style=\"background-color: #fff5f0; margin-right: 0px;\">·the</span><span style=\"background-color: #f14432; margin-right: 0px;\">·biggest</span><span style=\"background-color: #fff5f0; margin-right: 0px;\">·and</span><span style=\"background-color: #fff5f0; margin-right: 0px;\">·most</span><span style=\"background-color: #fff3ed; margin-right: 0px;\">·modern</span><span style=\"background-color: #fff5f0; margin-right: 0px;\">·in</span><span style=\"background-color: #fff5f0; margin-right: 0px;\">·Europe</span><span style=\"background-color: #fff5f0; margin-right: 0px;\">.</span><span style=\"background-color: #fff5f0; margin-right: 0px;\">↩\n",
       "</span><span style=\"background-color: #fff5f0; margin-right: 0px;\">A</span><span style=\"background-color: #fff5f0; margin-right: 0px;\">·privately</span><span style=\"background-color: #fff5f0; margin-right: 0px;\">·owned</span><span style=\"background-color: #fff5f0; margin-right: 0px;\">,</span><span style=\"background-color: #fff5f0; margin-right: 0px;\">·family</span><span style=\"background-color: #fff5f0; margin-right: 0px;\">·business</span><span style=\"background-color: #fff5f0; margin-right: 0px;\">·that</span><span style=\"background-color: #fff5f0; margin-right: 0px;\">·has</span><span style=\"background-color: #fff5f0; margin-right: 0px;\">·total</span><span style=\"background-color: #fff5f0; margin-right: 0px;\">·commitment</span><span style=\"background-color: #fff5f0; margin-right: 0px;\">·to</span><span style=\"background-color: #fff5f0; margin-right: 0px;\">·providing</span><span style=\"background-color: #fff5f0; margin-right: 0px;\">·customers</span><span style=\"background-color: #fff5f0; margin-right: 0px;\">·with</span><span style=\"background-color: #fff5f0; margin-right: 0px;\">·the</span><span style=\"background-color: #fff5f0; margin-right: 0px;\">·wid</span><span style=\"background-color: #fee0d2; margin-right: 0px;\">est</span><span style=\"background-color: #fff5f0; margin-right: 0px;\">·choice</span><span style=\"background-color: #fff5f0; margin-right: 0px;\">·of</span><span style=\"background-color: #fff5f0; margin-right: 0px;\">·sleep</span><span style=\"background-color: #fff5f0; margin-right: 0px;\">·products</span><span style=\"background-color: #fff5f0; margin-right: 0px;\">·and</span><span style=\"background-color: #fff5f0; margin-right: 0px;\">·the</span><span style=\"background-color: #fff5f0; margin-right: 0px;\">·highest</span><span style=\"background-color: #fff5f0; margin-right: 0px;\">·levels</span><span style=\"background-color: #fff5f0; margin-right: 0px;\">·of</span><span style=\"background-color: #fff5f0; margin-right: 0px;\">·quality</span><span style=\"background-color: #fff5f0; margin-right: 0px;\">·and</span><span style=\"background-color: #fff5f0; margin-right: 0px;\">·value</span><span style=\"background-color: #fff5f0; margin-right: 0px;\">·and</span><span style=\"background-color: #fff5f0; margin-right: 0px;\">·with</span><span style=\"background-color: #fff5f0; margin-right: 0px;\">·their</span><span style=\"background-color: #fff5f0; margin-right: 0px;\">·F</span><span style=\"background-color: #fff5f0; margin-right: 0px;\">asters</span><span style=\"background-color: #fff5f0; margin-right: 0px;\">leep</span><span style=\"background-color: #fff5f0; margin-right: 0px;\">·express</span></div>"
      ],
      "text/plain": [
       "<IPython.core.display.HTML object>"
      ]
     },
     "metadata": {},
     "output_type": "display_data"
    },
    {
     "data": {
      "text/html": [
       "<div style=\"word-wrap: break-word; margin-bottom: 10px;\"><strong>Snippet number:</strong> 3<br><strong>Max activation:</strong> 6.479552745819092<br><span style=\"background-color: #fff5f0; margin-right: 0px;\"><|BOS|></span><span style=\"background-color: #fff5f0; margin-right: 0px;\">(</span><span style=\"background-color: #fff5f0; margin-right: 0px;\">bot</span><span style=\"background-color: #fff5f0; margin-right: 0px;\">))</span><span style=\"background-color: #fff5f0; margin-right: 0px;\">↩\n",
       "</span><span style=\"background-color: #fff5f0; margin-right: 0px;\"><|EOS|></span><span style=\"background-color: #fff5f0; margin-right: 0px;\">On</span><span style=\"background-color: #fff5f0; margin-right: 0px;\">·such</span><span style=\"background-color: #fff5f0; margin-right: 0px;\">·a</span><span style=\"background-color: #fff5f0; margin-right: 0px;\">·bu</span><span style=\"background-color: #fff5f0; margin-right: 0px;\">z</span><span style=\"background-color: #fff5f0; margin-right: 0px;\">zy</span><span style=\"background-color: #fff5f0; margin-right: 0px;\">·day</span><span style=\"background-color: #fff5f0; margin-right: 0px;\">·in</span><span style=\"background-color: #fff5f0; margin-right: 0px;\">·the</span><span style=\"background-color: #fff5f0; margin-right: 0px;\">·nonprofit</span><span style=\"background-color: #fff5f0; margin-right: 0px;\">·world</span><span style=\"background-color: #fff5f0; margin-right: 0px;\">,</span><span style=\"background-color: #fff5f0; margin-right: 0px;\">·your</span><span style=\"background-color: #fff5f0; margin-right: 0px;\">·#</span><span style=\"background-color: #fff5f0; margin-right: 0px;\">G</span><span style=\"background-color: #fff5f0; margin-right: 0px;\">iving</span><span style=\"background-color: #fff5f0; margin-right: 0px;\">Tuesday</span><span style=\"background-color: #fff5f0; margin-right: 0px;\">·campaign</span><span style=\"background-color: #fff5f0; margin-right: 0px;\">·will</span><span style=\"background-color: #fff5f0; margin-right: 0px;\">·be</span><span style=\"background-color: #fff5f0; margin-right: 0px;\">·the</span><span style=\"background-color: #fff5f0; margin-right: 0px;\">·key</span><span style=\"background-color: #fff5f0; margin-right: 0px;\">·to</span><span style=\"background-color: #fff5f0; margin-right: 0px;\">·standing</span><span style=\"background-color: #fff5f0; margin-right: 0px;\">·out</span><span style=\"background-color: #fff5f0; margin-right: 0px;\">.</span><span style=\"background-color: #fff5f0; margin-right: 0px;\">·As</span><span style=\"background-color: #fff5f0; margin-right: 0px;\">·Executive</span><span style=\"background-color: #fff5f0; margin-right: 0px;\">·Director</span><span style=\"background-color: #fff5f0; margin-right: 0px;\">·of</span><span style=\"background-color: #fff5f0; margin-right: 0px;\">·The</span><span style=\"background-color: #fff5f0; margin-right: 0px;\">·David</span><span style=\"background-color: #fff5f0; margin-right: 0px;\">·She</span><span style=\"background-color: #fff5f0; margin-right: 0px;\">ld</span><span style=\"background-color: #fff5f0; margin-right: 0px;\">rick</span><span style=\"background-color: #fff5f0; margin-right: 0px;\">·Wildlife</span><span style=\"background-color: #fff5f0; margin-right: 0px;\">·Trust</span><span style=\"background-color: #fff5f0; margin-right: 0px;\">,</span><span style=\"background-color: #fff5f0; margin-right: 0px;\">·Melissa</span><span style=\"background-color: #fff5f0; margin-right: 0px;\">·Sci</span><span style=\"background-color: #fff5f0; margin-right: 0px;\">acc</span><span style=\"background-color: #fff5f0; margin-right: 0px;\">a</span><span style=\"background-color: #fff5f0; margin-right: 0px;\">·lever</span><span style=\"background-color: #fff5f0; margin-right: 0px;\">ages</span><span style=\"background-color: #fff5f0; margin-right: 0px;\">·over</span><span style=\"background-color: #fff5f0; margin-right: 0px;\">·a</span><span style=\"background-color: #fff5f0; margin-right: 0px;\">·decade</span><span style=\"background-color: #fff5f0; margin-right: 0px;\">·of</span><span style=\"background-color: #fff5f0; margin-right: 0px;\">·experience</span><span style=\"background-color: #fff5f0; margin-right: 0px;\">·in</span><span style=\"background-color: #fff5f0; margin-right: 0px;\">·wildlife</span><span style=\"background-color: #fff5f0; margin-right: 0px;\">·conservation</span><span style=\"background-color: #fff5f0; margin-right: 0px;\">·to</span><span style=\"background-color: #fff5f0; margin-right: 0px;\">·support</span><span style=\"background-color: #fff5f0; margin-right: 0px;\">,</span><span style=\"background-color: #fff5f0; margin-right: 0px;\">·promote</span><span style=\"background-color: #fff5f0; margin-right: 0px;\">,</span><span style=\"background-color: #fff5f0; margin-right: 0px;\">·and</span><span style=\"background-color: #fff5f0; margin-right: 0px;\">·expand</span><span style=\"background-color: #fff5f0; margin-right: 0px;\">·her</span><span style=\"background-color: #fff5f0; margin-right: 0px;\">·organization</span><span style=\"background-color: #fff5f0; margin-right: 0px;\">.</span><span style=\"background-color: #fff5f0; margin-right: 0px;\">·Here</span><span style=\"background-color: #fff5f0; margin-right: 0px;\">·are</span><span style=\"background-color: #fff5f0; margin-right: 0px;\">·Melissa</span><span style=\"background-color: #fff5f0; margin-right: 0px;\">’</span><span style=\"background-color: #fff5f0; margin-right: 0px;\">s</span><span style=\"background-color: #fff5f0; margin-right: 0px;\">·top</span><span style=\"background-color: #fff5f0; margin-right: 0px;\">·tips</span><span style=\"background-color: #fff5f0; margin-right: 0px;\">·to</span><span style=\"background-color: #fff5f0; margin-right: 0px;\">·help</span><span style=\"background-color: #fff5f0; margin-right: 0px;\">·you</span><span style=\"background-color: #fff5f0; margin-right: 0px;\">·create</span><span style=\"background-color: #fff5f0; margin-right: 0px;\">·a</span><span style=\"background-color: #fff5f0; margin-right: 0px;\">·campaign</span><span style=\"background-color: #fff5f0; margin-right: 0px;\">·that</span><span style=\"background-color: #fff5f0; margin-right: 0px;\">·reson</span><span style=\"background-color: #fff5f0; margin-right: 0px;\">ates</span><span style=\"background-color: #fff5f0; margin-right: 0px;\">·on</span><span style=\"background-color: #fff5f0; margin-right: 0px;\">·the</span><span style=\"background-color: #fff5f0; margin-right: 0px;\">·nonprofit</span><span style=\"background-color: #fff5f0; margin-right: 0px;\">·community</span><span style=\"background-color: #fff5f0; margin-right: 0px;\">’</span><span style=\"background-color: #fff5f0; margin-right: 0px;\">s</span><span style=\"background-color: #f14432; margin-right: 0px;\">·biggest</span><span style=\"background-color: #fff5f0; margin-right: 0px;\">·day</span><span style=\"background-color: #fff5f0; margin-right: 0px;\">·of</span><span style=\"background-color: #fff5f0; margin-right: 0px;\">·the</span><span style=\"background-color: #fff5f0; margin-right: 0px;\">·year</span><span style=\"background-color: #fff5f0; margin-right: 0px;\">.</span><span style=\"background-color: #fff5f0; margin-right: 0px;\">↩\n",
       "</span><span style=\"background-color: #fff5f0; margin-right: 0px;\">#</span><span style=\"background-color: #fff5f0; margin-right: 0px;\">1</span><span style=\"background-color: #fff5f0; margin-right: 0px;\">.</span><span style=\"background-color: #fff5f0; margin-right: 0px;\">·Create</span><span style=\"background-color: #fff5f0; margin-right: 0px;\">·original</span><span style=\"background-color: #fff5f0; margin-right: 0px;\">·blog</span><span style=\"background-color: #fff5f0; margin-right: 0px;\">·and</span><span style=\"background-color: #fff5f0; margin-right: 0px;\">·video</span><span style=\"background-color: #fff5f0; margin-right: 0px;\">·content</span><span style=\"background-color: #fff5f0; margin-right: 0px;\">·that</span><span style=\"background-color: #fff5f0; margin-right: 0px;\">·comp</span><span style=\"background-color: #fff5f0; margin-right: 0px;\">els</span><span style=\"background-color: #fff5f0; margin-right: 0px;\">·people</span><span style=\"background-color: #fff5f0; margin-right: 0px;\">·to</span><span style=\"background-color: #fff5f0; margin-right: 0px;\">·give</span><span style=\"background-color: #fff5f0; margin-right: 0px;\">.</span><span style=\"background-color: #fff5f0; margin-right: 0px;\">↩\n",
       "</span><span style=\"background-color: #fff5f0; margin-right: 0px;\">#</span><span style=\"background-color: #fff5f0; margin-right: 0px;\">2</span><span style=\"background-color: #fff5f0; margin-right: 0px;\">.</span><span style=\"background-color: #fff5f0; margin-right: 0px;\">·Make</span><span style=\"background-color: #fff5f0; margin-right: 0px;\">·your</span><span style=\"background-color: #fff5f0; margin-right: 0px;\">·G</span><span style=\"background-color: #fff5f0; margin-right: 0px;\">iving</span><span style=\"background-color: #fff5f0; margin-right: 0px;\">·Tuesday</span><span style=\"background-color: #fff5f0; margin-right: 0px;\">·ask</span><span style=\"background-color: #fff5f0; margin-right: 0px;\">·goal</span><span style=\"background-color: #fff5f0; margin-right: 0px;\">-</span><span style=\"background-color: #fff5f0; margin-right: 0px;\">oriented</span><span style=\"background-color: #fff5f0; margin-right: 0px;\">.</span><span style=\"background-color: #fff5f0; margin-right: 0px;\">↩\n",
       "</span></div>"
      ],
      "text/plain": [
       "<IPython.core.display.HTML object>"
      ]
     },
     "metadata": {},
     "output_type": "display_data"
    },
    {
     "data": {
      "text/html": [
       "<div style=\"word-wrap: break-word; margin-bottom: 10px;\"><strong>Snippet number:</strong> 4<br><strong>Max activation:</strong> 6.271420955657959<br><span style=\"background-color: #fff5f0; margin-right: 0px;\"><|BOS|></span><span style=\"background-color: #fff5f0; margin-right: 0px;\">↩\n",
       "·······</span><span style=\"background-color: #fff5f0; margin-right: 0px;\">·:</span><span style=\"background-color: #fff5f0; margin-right: 0px;\">param</span><span style=\"background-color: #fff5f0; margin-right: 0px;\">·k</span><span style=\"background-color: #fff5f0; margin-right: 0px;\">2</span><span style=\"background-color: #fff5f0; margin-right: 0px;\">:</span><span style=\"background-color: #fff5f0; margin-right: 0px;\">·upper</span><span style=\"background-color: #fff5f0; margin-right: 0px;\">·interval</span><span style=\"background-color: #fff5f0; margin-right: 0px;\">·limit</span><span style=\"background-color: #fff5f0; margin-right: 0px;\">↩\n",
       "·······</span><span style=\"background-color: #fff5f0; margin-right: 0px;\">·:</span><span style=\"background-color: #fff5f0; margin-right: 0px;\">type</span><span style=\"background-color: #fff5f0; margin-right: 0px;\">·k</span><span style=\"background-color: #fff5f0; margin-right: 0px;\">2</span><span style=\"background-color: #fff5f0; margin-right: 0px;\">:</span><span style=\"background-color: #fff5f0; margin-right: 0px;\">·int</span><span style=\"background-color: #fff5f0; margin-right: 0px;\">↩\n",
       "·······</span><span style=\"background-color: #fff5f0; margin-right: 0px;\">·:</span><span style=\"background-color: #fff5f0; margin-right: 0px;\">returns</span><span style=\"background-color: #fff5f0; margin-right: 0px;\">:</span><span style=\"background-color: #fff5f0; margin-right: 0px;\">·array</span><span style=\"background-color: #fff5f0; margin-right: 0px;\">·of</span><span style=\"background-color: #fff5f0; margin-right: 0px;\">·observed</span><span style=\"background-color: #fff5f0; margin-right: 0px;\">·:</span><span style=\"background-color: #fff5f0; margin-right: 0px;\">math</span><span style=\"background-color: #fff5f0; margin-right: 0px;\">:`</span><span style=\"background-color: #fff5f0; margin-right: 0px;\">\\\\</span><span style=\"background-color: #fff5f0; margin-right: 0px;\">Lambda</span><span style=\"background-color: #fff5f0; margin-right: 0px;\">`</span><span style=\"background-color: #fff5f0; margin-right: 0px;\">-</span><span style=\"background-color: #fff5f0; margin-right: 0px;\">mot</span><span style=\"background-color: #fff5f0; margin-right: 0px;\">ifs</span><span style=\"background-color: #fff5f0; margin-right: 0px;\">↩\n",
       "·······</span><span style=\"background-color: #fff5f0; margin-right: 0px;\">·:</span><span style=\"background-color: #fff5f0; margin-right: 0px;\">r</span><span style=\"background-color: #fff5f0; margin-right: 0px;\">type</span><span style=\"background-color: #fff5f0; margin-right: 0px;\">:</span><span style=\"background-color: #fff5f0; margin-right: 0px;\">·numpy</span><span style=\"background-color: #fff5f0; margin-right: 0px;\">.</span><span style=\"background-color: #fff5f0; margin-right: 0px;\">array</span><span style=\"background-color: #fff5f0; margin-right: 0px;\">↩\n",
       "·······</span><span style=\"background-color: #fff5f0; margin-right: 0px;\">·\"\"\"</span><span style=\"background-color: #fff5f0; margin-right: 0px;\">↩\n",
       "·······</span><span style=\"background-color: #fff5f0; margin-right: 0px;\">·n</span><span style=\"background-color: #fff5f0; margin-right: 0px;\">dim</span><span style=\"background-color: #fff5f0; margin-right: 0px;\">·=</span><span style=\"background-color: #fff5f0; margin-right: 0px;\">·mm</span><span style=\"background-color: #fff5f0; margin-right: 0px;\">.</span><span style=\"background-color: #fff5f0; margin-right: 0px;\">shape</span><span style=\"background-color: #fff5f0; margin-right: 0px;\">[</span><span style=\"background-color: #fff5f0; margin-right: 0px;\">0</span><span style=\"background-color: #fff5f0; margin-right: 0px;\">]</span><span style=\"background-color: #fff5f0; margin-right: 0px;\">↩\n",
       "·······</span><span style=\"background-color: #fff5f0; margin-right: 0px;\">·#</span><span style=\"background-color: #fff5f0; margin-right: 0px;\">·if</span><span style=\"background-color: #fff5f0; margin-right: 0px;\">·the</span><span style=\"background-color: #fff5f0; margin-right: 0px;\">·upper</span><span style=\"background-color: #fff5f0; margin-right: 0px;\">·limit</span><span style=\"background-color: #fff5f0; margin-right: 0px;\">·is</span><span style=\"background-color: #fff5f0; margin-right: 0px;\">·the</span><span style=\"background-color: #f14432; margin-right: 0px;\">·largest</span><span style=\"background-color: #fff2eb; margin-right: 0px;\">·possible</span><span style=\"background-color: #fff5f0; margin-right: 0px;\">·index</span><span style=\"background-color: #fff5f0; margin-right: 0px;\">,</span><span style=\"background-color: #fff5f0; margin-right: 0px;\">·i</span><span style=\"background-color: #fff5f0; margin-right: 0px;\">.</span><span style=\"background-color: #fff5f0; margin-right: 0px;\">e</span><span style=\"background-color: #fff5f0; margin-right: 0px;\">.</span><span style=\"background-color: #fff5f0; margin-right: 0px;\">·corresponds</span><span style=\"background-color: #fff5f0; margin-right: 0px;\">·to</span><span style=\"background-color: #fff5f0; margin-right: 0px;\">↩\n",
       "·······</span><span style=\"background-color: #fff5f0; margin-right: 0px;\">·#</span><span style=\"background-color: #fff5f0; margin-right: 0px;\">·the</span><span style=\"background-color: #fff5f0; margin-right: 0px;\">·node</span><span style=\"background-color: #fff5f0; margin-right: 0px;\">·couple</span><span style=\"background-color: #fff5f0; margin-right: 0px;\">·(</span><span style=\"background-color: #fff5f0; margin-right: 0px;\">nd</span><span style=\"background-color: #fff5f0; margin-right: 0px;\">im</span><span style=\"background-color: #fff5f0; margin-right: 0px;\">·-</span><span style=\"background-color: #fff5f0; margin-right: 0px;\">·2</span><span style=\"background-color: #fff5f0; margin-right: 0px;\">,</span><span style=\"background-color: #fff5f0; margin-right: 0px;\">·n</span><span style=\"background-color: #fff5f0; margin-right: 0px;\">dim</span><span style=\"background-color: #fff5f0; margin-right: 0px;\">·-</span><span style=\"background-color: #fff5f0; margin-right: 0px;\">·1</span><span style=\"background-color: #fff5f0; margin-right: 0px;\">)</span><span style=\"background-color: #fff5f0; margin-right: 0px;\">,</span><span style=\"background-color: #fff5f0; margin-right: 0px;\">·where</span><span style=\"background-color: #fff5f0; margin-right: 0px;\">·node</span><span style=\"background-color: #fff5f0; margin-right: 0px;\">·indices</span><span style=\"background-color: #fff5f0; margin-right: 0px;\">·start</span><span style=\"background-color: #fff5f0; margin-right: 0px;\">·from</span><span style=\"background-color: #fff5f0; margin-right: 0px;\">·0</span><span style=\"background-color: #fff5f0; margin-right: 0px;\">,</span><span style=\"background-color: #fff5f0; margin-right: 0px;\">↩\n",
       "·······</span><span style=\"background-color: #fff5f0; margin-right: 0px;\">·#</span><span style=\"background-color: #fff5f0; margin-right: 0px;\">·include</span><span style=\"background-color: #fff5f0; margin-right: 0px;\">·the</span><span style=\"background-color: #fff5f0; margin-right: 0px;\">·result</span><span style=\"background-color: #fff5f0; margin-right: 0px;\">↩\n",
       "·······</span><span style=\"background-color: #fff5f0; margin-right: 0px;\">·if</span><span style=\"background-color: #fff5f0; margin-right: 0px;\">·k</span><span style=\"background-color: #fff5f0; margin-right: 0px;\">2</span><span style=\"background-color: #fff5f0; margin-right: 0px;\">·==</span><span style=\"background-color: #fff5f0; margin-right: 0px;\">·(</span><span style=\"background-color: #fff5f0; margin-right: 0px;\">nd</span><span style=\"background-color: #fff5f0; margin-right: 0px;\">im</span><span style=\"background-color: #fff5f0; margin-right: 0px;\">·*</span><span style=\"background-color: #fff5f0; margin-right: 0px;\">·(</span><span style=\"background-color: #fff5f0; margin-right: 0px;\">nd</span><span style=\"background-color: #fff5f0; margin-right: 0px;\">im</span><span style=\"background-color: #fff5f0; margin-right: 0px;\">·-</span><span style=\"background-color: #fff5f0; margin-right: 0px;\">·1</span><span style=\"background-color: #fff5f0; margin-right: 0px;\">)</span><span style=\"background-color: #fff5f0; margin-right: 0px;\">·/</span><span style=\"background-color: #fff5f0; margin-right: 0px;\">·2</span><span style=\"background-color: #fff5f0; margin-right: 0px;\">·-</span><span style=\"background-color: #fff5f0; margin-right: 0px;\">·1</span><span style=\"background-color: #fff5f0; margin-right: 0px;\">):</span><span style=\"background-color: #fff5f0; margin-right: 0px;\">↩\n",
       "···········</span><span style=\"background-color: #fff5f0; margin-right: 0px;\">·flag</span><span style=\"background-color: #fff5f0; margin-right: 0px;\">·=</span><span style=\"background-color: #fff5f0; margin-right: 0px;\">·1</span><span style=\"background-color: #fff5f0; margin-right: 0px;\">↩\n",
       "·······</span><span style=\"background-color: #fff5f0; margin-right: 0px;\">·else</span><span style=\"background-color: #fff5f0; margin-right: 0px;\">:</span><span style=\"background-color: #fff5f0; margin-right: 0px;\">↩\n",
       "···········</span></div>"
      ],
      "text/plain": [
       "<IPython.core.display.HTML object>"
      ]
     },
     "metadata": {},
     "output_type": "display_data"
    },
    {
     "data": {
      "text/html": [
       "<div style=\"word-wrap: break-word; margin-bottom: 10px;\"><strong>Snippet number:</strong> 5<br><strong>Max activation:</strong> 6.142281532287598<br><span style=\"background-color: #fff5f0; margin-right: 0px;\"><|BOS|></span><span style=\"background-color: #fff5f0; margin-right: 0px;\">·put</span><span style=\"background-color: #fff5f0; margin-right: 0px;\">·our</span><span style=\"background-color: #fff5f0; margin-right: 0px;\">·clients</span><span style=\"background-color: #fff5f0; margin-right: 0px;\">’</span><span style=\"background-color: #fff5f0; margin-right: 0px;\">·interests</span><span style=\"background-color: #fff5f0; margin-right: 0px;\">·first</span><span style=\"background-color: #fff5f0; margin-right: 0px;\">.</span><span style=\"background-color: #fff5f0; margin-right: 0px;\">↩\n",
       "</span><span style=\"background-color: #fff5f0; margin-right: 0px;\">As</span><span style=\"background-color: #fff5f0; margin-right: 0px;\">·fee</span><span style=\"background-color: #fff5f0; margin-right: 0px;\">-</span><span style=\"background-color: #fff5f0; margin-right: 0px;\">only</span><span style=\"background-color: #fff5f0; margin-right: 0px;\">·advisors</span><span style=\"background-color: #fff5f0; margin-right: 0px;\">,</span><span style=\"background-color: #fff5f0; margin-right: 0px;\">·we</span><span style=\"background-color: #fff5f0; margin-right: 0px;\">·charge</span><span style=\"background-color: #fff5f0; margin-right: 0px;\">·0</span><span style=\"background-color: #fff5f0; margin-right: 0px;\">.</span><span style=\"background-color: #fff5f0; margin-right: 0px;\">6</span><span style=\"background-color: #fff5f0; margin-right: 0px;\">%</span><span style=\"background-color: #fff5f0; margin-right: 0px;\">·of</span><span style=\"background-color: #fff5f0; margin-right: 0px;\">·the</span><span style=\"background-color: #fff5f0; margin-right: 0px;\">·assets</span><span style=\"background-color: #fff5f0; margin-right: 0px;\">·we</span><span style=\"background-color: #fff5f0; margin-right: 0px;\">·manage</span><span style=\"background-color: #fff5f0; margin-right: 0px;\">.</span><span style=\"background-color: #fff5f0; margin-right: 0px;\">↩\n",
       "</span><span style=\"background-color: #fff5f0; margin-right: 0px;\">With</span><span style=\"background-color: #fff5f0; margin-right: 0px;\">·over</span><span style=\"background-color: #fff5f0; margin-right: 0px;\">·2</span><span style=\"background-color: #fff5f0; margin-right: 0px;\">0</span><span style=\"background-color: #fff5f0; margin-right: 0px;\">0</span><span style=\"background-color: #fff5f0; margin-right: 0px;\">·years</span><span style=\"background-color: #fff5f0; margin-right: 0px;\">·of</span><span style=\"background-color: #fff5f0; margin-right: 0px;\">·combined</span><span style=\"background-color: #fff5f0; margin-right: 0px;\">·investment</span><span style=\"background-color: #fff5f0; margin-right: 0px;\">·experience</span><span style=\"background-color: #fff5f0; margin-right: 0px;\">,</span><span style=\"background-color: #fff5f0; margin-right: 0px;\">·our</span><span style=\"background-color: #fff5f0; margin-right: 0px;\">·team</span><span style=\"background-color: #fff5f0; margin-right: 0px;\">·of</span><span style=\"background-color: #fff5f0; margin-right: 0px;\">·1</span><span style=\"background-color: #fff5f0; margin-right: 0px;\">0</span><span style=\"background-color: #fff5f0; margin-right: 0px;\">·investment</span><span style=\"background-color: #fff5f0; margin-right: 0px;\">·professionals</span><span style=\"background-color: #fff5f0; margin-right: 0px;\">·includes</span><span style=\"background-color: #fff5f0; margin-right: 0px;\">·7</span><span style=\"background-color: #fff5f0; margin-right: 0px;\">·C</span><span style=\"background-color: #fff5f0; margin-right: 0px;\">FA</span><span style=\"background-color: #fff5f0; margin-right: 0px;\">®</span><span style=\"background-color: #fff5f0; margin-right: 0px;\">·Charter</span><span style=\"background-color: #fff5f0; margin-right: 0px;\">holders</span><span style=\"background-color: #fff5f0; margin-right: 0px;\">,</span><span style=\"background-color: #fff5f0; margin-right: 0px;\">·2</span><span style=\"background-color: #fff5f0; margin-right: 0px;\">·C</span><span style=\"background-color: #fff5f0; margin-right: 0px;\">FP</span><span style=\"background-color: #fff5f0; margin-right: 0px;\">®</span><span style=\"background-color: #fff5f0; margin-right: 0px;\">·professionals</span><span style=\"background-color: #fff5f0; margin-right: 0px;\">,</span><span style=\"background-color: #fff5f0; margin-right: 0px;\">·and</span><span style=\"background-color: #fff5f0; margin-right: 0px;\">·2</span><span style=\"background-color: #fff5f0; margin-right: 0px;\">·CP</span><span style=\"background-color: #fff5f0; margin-right: 0px;\">As</span><span style=\"background-color: #fff5f0; margin-right: 0px;\">.</span><span style=\"background-color: #fff5f0; margin-right: 0px;\">↩\n",
       "</span><span style=\"background-color: #fff5f0; margin-right: 0px;\">NS</span><span style=\"background-color: #fff5f0; margin-right: 0px;\">AM</span><span style=\"background-color: #fff5f0; margin-right: 0px;\">·is</span><span style=\"background-color: #fff5f0; margin-right: 0px;\">·the</span><span style=\"background-color: #fff5f0; margin-right: 0px;\">·2</span><span style=\"background-color: #fff5f0; margin-right: 0px;\">nd</span><span style=\"background-color: #f14432; margin-right: 0px;\">·largest</span><span style=\"background-color: #fff1ea; margin-right: 0px;\">·independent</span><span style=\"background-color: #fff5f0; margin-right: 0px;\">·SEC</span><span style=\"background-color: #fff5f0; margin-right: 0px;\">·Reg</span><span style=\"background-color: #fff5f0; margin-right: 0px;\">istered</span><span style=\"background-color: #fff5f0; margin-right: 0px;\">·Investment</span><span style=\"background-color: #fff5f0; margin-right: 0px;\">·Advisory</span><span style=\"background-color: #fff5f0; margin-right: 0px;\">·firm</span><span style=\"background-color: #fff5f0; margin-right: 0px;\">·in</span><span style=\"background-color: #fff5f0; margin-right: 0px;\">·Wisconsin</span><span style=\"background-color: #fff5f0; margin-right: 0px;\">,</span><span style=\"background-color: #fff5f0; margin-right: 0px;\">·with</span><span style=\"background-color: #fff5f0; margin-right: 0px;\">·over</span><span style=\"background-color: #fff5f0; margin-right: 0px;\">·$</span><span style=\"background-color: #fff5f0; margin-right: 0px;\">1</span><span style=\"background-color: #fff5f0; margin-right: 0px;\">.</span><span style=\"background-color: #fff5f0; margin-right: 0px;\">5</span><span style=\"background-color: #fff5f0; margin-right: 0px;\">·billion</span><span style=\"background-color: #fff5f0; margin-right: 0px;\">·of</span><span style=\"background-color: #fff5f0; margin-right: 0px;\">·assets</span><span style=\"background-color: #fff5f0; margin-right: 0px;\">·under</span><span style=\"background-color: #fff5f0; margin-right: 0px;\">·management</span><span style=\"background-color: #fff5f0; margin-right: 0px;\">.</span><span style=\"background-color: #fff5f0; margin-right: 0px;\">↩\n",
       "</span><span style=\"background-color: #fff5f0; margin-right: 0px;\">As</span><span style=\"background-color: #fff5f0; margin-right: 0px;\">·fiduc</span><span style=\"background-color: #fff5f0; margin-right: 0px;\">i</span><span style=\"background-color: #fff5f0; margin-right: 0px;\">aries</span><span style=\"background-color: #fff5f0; margin-right: 0px;\">,</span><span style=\"background-color: #fff5f0; margin-right: 0px;\">·we</span><span style=\"background-color: #fff5f0; margin-right: 0px;\">·provide</span><span style=\"background-color: #fff5f0; margin-right: 0px;\">·families</span><span style=\"background-color: #fff5f0; margin-right: 0px;\">,</span><span style=\"background-color: #fff5f0; margin-right: 0px;\">·corporations</span><span style=\"background-color: #fff5f0; margin-right: 0px;\">·and</span><span style=\"background-color: #fff5f0; margin-right: 0px;\">·end</span><span style=\"background-color: #fff5f0; margin-right: 0px;\">ow</span><span style=\"background-color: #fff5f0; margin-right: 0px;\">ments</span><span style=\"background-color: #fff5f0; margin-right: 0px;\">·with</span><span style=\"background-color: #fff5f0; margin-right: 0px;\">·customized</span><span style=\"background-color: #fff5f0; margin-right: 0px;\">·investment</span><span style=\"background-color: #fff5f0; margin-right: 0px;\">·management</span><span style=\"background-color: #fff5f0; margin-right: 0px;\">·and</span><span style=\"background-color: #fff5f0; margin-right: 0px;\">·retirement</span><span style=\"background-color: #fff5f0; margin-right: 0px;\">·planning</span><span style=\"background-color: #fff5f0; margin-right: 0px;\">·services</span><span style=\"background-color: #fff5f0; margin-right: 0px;\">.</span><span style=\"background-color: #fff5f0; margin-right: 0px;\">↩\n",
       "</span><span style=\"background-color: #fff5f0; margin-right: 0px;\">We</span><span style=\"background-color: #fff5f0; margin-right: 0px;\">·build</span><span style=\"background-color: #fff5f0; margin-right: 0px;\">·customized</span><span style=\"background-color: #fff5f0; margin-right: 0px;\">·equity</span><span style=\"background-color: #fff5f0; margin-right: 0px;\">·and</span><span style=\"background-color: #fff5f0; margin-right: 0px;\">·fixed</span><span style=\"background-color: #fff5f0; margin-right: 0px;\">·income</span><span style=\"background-color: #fff5f0; margin-right: 0px;\">·port</span></div>"
      ],
      "text/plain": [
       "<IPython.core.display.HTML object>"
      ]
     },
     "metadata": {},
     "output_type": "display_data"
    },
    {
     "data": {
      "text/html": [
       "<div style=\"word-wrap: break-word; margin-bottom: 10px;\"><strong>Snippet number:</strong> 6<br><strong>Max activation:</strong> 6.066311359405518<br><span style=\"background-color: #fff5f0; margin-right: 0px;\"><|BOS|></span><span style=\"background-color: #fff5f0; margin-right: 0px;\">↩\n",
       "</span><span style=\"background-color: #fff5f0; margin-right: 0px;\"><|EOS|></span><span style=\"background-color: #fff5f0; margin-right: 0px;\">To</span><span style=\"background-color: #fff5f0; margin-right: 0px;\">·tell</span><span style=\"background-color: #fff5f0; margin-right: 0px;\">·you</span><span style=\"background-color: #fff5f0; margin-right: 0px;\">·the</span><span style=\"background-color: #fff5f0; margin-right: 0px;\">·truth</span><span style=\"background-color: #fff5f0; margin-right: 0px;\">,</span><span style=\"background-color: #fff5f0; margin-right: 0px;\">·Dad</span><span style=\"background-color: #fff5f0; margin-right: 0px;\">,</span><span style=\"background-color: #fff5f0; margin-right: 0px;\">·I</span><span style=\"background-color: #fff5f0; margin-right: 0px;\">'m</span><span style=\"background-color: #fff5f0; margin-right: 0px;\">·convinced</span><span style=\"background-color: #fff5f0; margin-right: 0px;\">·that</span><span style=\"background-color: #fff5f0; margin-right: 0px;\">·there</span><span style=\"background-color: #fff5f0; margin-right: 0px;\">'s</span><span style=\"background-color: #fff5f0; margin-right: 0px;\">·nobody</span><span style=\"background-color: #fff5f0; margin-right: 0px;\">·in</span><span style=\"background-color: #fff5f0; margin-right: 0px;\">·the</span><span style=\"background-color: #fff5f0; margin-right: 0px;\">·world</span><span style=\"background-color: #fff5f0; margin-right: 0px;\">·who</span><span style=\"background-color: #fff5f0; margin-right: 0px;\">·gets</span><span style=\"background-color: #fff5f0; margin-right: 0px;\">·me</span><span style=\"background-color: #fff5f0; margin-right: 0px;\">·quite</span><span style=\"background-color: #fff5f0; margin-right: 0px;\">·like</span><span style=\"background-color: #fff5f0; margin-right: 0px;\">·you</span><span style=\"background-color: #fff5f0; margin-right: 0px;\">·do</span><span style=\"background-color: #fff5f0; margin-right: 0px;\">.</span><span style=\"background-color: #fff5f0; margin-right: 0px;\">·I</span><span style=\"background-color: #fff5f0; margin-right: 0px;\">'m</span><span style=\"background-color: #fff5f0; margin-right: 0px;\">·so</span><span style=\"background-color: #fff5f0; margin-right: 0px;\">·grateful</span><span style=\"background-color: #fff5f0; margin-right: 0px;\">·for</span><span style=\"background-color: #fff5f0; margin-right: 0px;\">·our</span><span style=\"background-color: #fff5f0; margin-right: 0px;\">·regular</span><span style=\"background-color: #fff5f0; margin-right: 0px;\">·breakfast</span><span style=\"background-color: #fff5f0; margin-right: 0px;\">·dates</span><span style=\"background-color: #fff5f0; margin-right: 0px;\">·and</span><span style=\"background-color: #fff5f0; margin-right: 0px;\">·larger</span><span style=\"background-color: #fff5f0; margin-right: 0px;\">-</span><span style=\"background-color: #fff5f0; margin-right: 0px;\">than</span><span style=\"background-color: #fff5f0; margin-right: 0px;\">-</span><span style=\"background-color: #fff5f0; margin-right: 0px;\">life</span><span style=\"background-color: #fff5f0; margin-right: 0px;\">·conversations</span><span style=\"background-color: #fff5f0; margin-right: 0px;\">,</span><span style=\"background-color: #fff5f0; margin-right: 0px;\">·the</span><span style=\"background-color: #fff5f0; margin-right: 0px;\">·way</span><span style=\"background-color: #fff5f0; margin-right: 0px;\">·you</span><span style=\"background-color: #fff5f0; margin-right: 0px;\">'re</span><span style=\"background-color: #fff5f0; margin-right: 0px;\">·constantly</span><span style=\"background-color: #fff5f0; margin-right: 0px;\">·teaching</span><span style=\"background-color: #fff5f0; margin-right: 0px;\">·me</span><span style=\"background-color: #fff5f0; margin-right: 0px;\">·new</span><span style=\"background-color: #fff5f0; margin-right: 0px;\">·things</span><span style=\"background-color: #fff5f0; margin-right: 0px;\">·and</span><span style=\"background-color: #fff5f0; margin-right: 0px;\">·helping</span><span style=\"background-color: #fff5f0; margin-right: 0px;\">·me</span><span style=\"background-color: #fff5f0; margin-right: 0px;\">·grow</span><span style=\"background-color: #fff5f0; margin-right: 0px;\">·as</span><span style=\"background-color: #fff5f0; margin-right: 0px;\">·a</span><span style=\"background-color: #fff5f0; margin-right: 0px;\">·person</span><span style=\"background-color: #fff5f0; margin-right: 0px;\">.</span><span style=\"background-color: #fff5f0; margin-right: 0px;\">·Thank</span><span style=\"background-color: #fff5f0; margin-right: 0px;\">·you</span><span style=\"background-color: #fff5f0; margin-right: 0px;\">·for</span><span style=\"background-color: #fff5f0; margin-right: 0px;\">·all</span><span style=\"background-color: #fff5f0; margin-right: 0px;\">·of</span><span style=\"background-color: #fff5f0; margin-right: 0px;\">·the</span><span style=\"background-color: #fff5f0; margin-right: 0px;\">·years</span><span style=\"background-color: #fff5f0; margin-right: 0px;\">·you</span><span style=\"background-color: #fff5f0; margin-right: 0px;\">·spent</span><span style=\"background-color: #fff5f0; margin-right: 0px;\">·videot</span><span style=\"background-color: #fff5f0; margin-right: 0px;\">aping</span><span style=\"background-color: #fff5f0; margin-right: 0px;\">·my</span><span style=\"background-color: #fff5f0; margin-right: 0px;\">·dance</span><span style=\"background-color: #fff5f0; margin-right: 0px;\">·rec</span><span style=\"background-color: #fff5f0; margin-right: 0px;\">itals</span><span style=\"background-color: #fff5f0; margin-right: 0px;\">,</span><span style=\"background-color: #fff5f0; margin-right: 0px;\">·entertaining</span><span style=\"background-color: #fff5f0; margin-right: 0px;\">·my</span><span style=\"background-color: #fff5f0; margin-right: 0px;\">·wild</span><span style=\"background-color: #fff5f0; margin-right: 0px;\">est</span><span style=\"background-color: #fff5f0; margin-right: 0px;\">·hopes</span><span style=\"background-color: #fff5f0; margin-right: 0px;\">·and</span><span style=\"background-color: #fff5f0; margin-right: 0px;\">·dreams</span><span style=\"background-color: #fff5f0; margin-right: 0px;\">,</span><span style=\"background-color: #fff5f0; margin-right: 0px;\">·and</span><span style=\"background-color: #fff5f0; margin-right: 0px;\">·guiding</span><span style=\"background-color: #fff5f0; margin-right: 0px;\">·me</span><span style=\"background-color: #fff5f0; margin-right: 0px;\">·in</span><span style=\"background-color: #fff5f0; margin-right: 0px;\">·my</span><span style=\"background-color: #fff5f0; margin-right: 0px;\">·journey</span><span style=\"background-color: #fff5f0; margin-right: 0px;\">·of</span><span style=\"background-color: #fff5f0; margin-right: 0px;\">·faith</span><span style=\"background-color: #fff5f0; margin-right: 0px;\">.</span><span style=\"background-color: #fff5f0; margin-right: 0px;\">·You</span><span style=\"background-color: #fff5f0; margin-right: 0px;\">'ve</span><span style=\"background-color: #fff5f0; margin-right: 0px;\">·always</span><span style=\"background-color: #fff5f0; margin-right: 0px;\">·been</span><span style=\"background-color: #fff5f0; margin-right: 0px;\">·my</span><span style=\"background-color: #f14432; margin-right: 0px;\">·biggest</span><span style=\"background-color: #fff5f0; margin-right: 0px;\">·supporter</span><span style=\"background-color: #fff5f0; margin-right: 0px;\">·and</span><span style=\"background-color: #fff5f0; margin-right: 0px;\">·voice</span><span style=\"background-color: #fff5f0; margin-right: 0px;\">·of</span><span style=\"background-color: #fff5f0; margin-right: 0px;\">·reason</span><span style=\"background-color: #fff5f0; margin-right: 0px;\">,</span><span style=\"background-color: #fff5f0; margin-right: 0px;\">·the</span><span style=\"background-color: #fff5f0; margin-right: 0px;\">·one</span><span style=\"background-color: #fff5f0; margin-right: 0px;\">·person</span><span style=\"background-color: #fff5f0; margin-right: 0px;\">·who</span><span style=\"background-color: #fff5f0; margin-right: 0px;\">·can</span><span style=\"background-color: #fff5f0; margin-right: 0px;\">·instantly</span><span style=\"background-color: #fff5f0; margin-right: 0px;\">·melt</span><span style=\"background-color: #fff5f0; margin-right: 0px;\">·away</span><span style=\"background-color: #fff5f0; margin-right: 0px;\">·my</span><span style=\"background-color: #fff5f0; margin-right: 0px;\">·troubles</span><span style=\"background-color: #fff5f0; margin-right: 0px;\">·with</span><span style=\"background-color: #fff5f0; margin-right: 0px;\">·a</span><span style=\"background-color: #fff5f0; margin-right: 0px;\">·single</span><span style=\"background-color: #fff5f0; margin-right: 0px;\">·hug</span><span style=\"background-color: #fff5f0; margin-right: 0px;\">.</span><span style=\"background-color: #fff5f0; margin-right: 0px;\">↩\n",
       "</span><span style=\"background-color: #fff5f0; margin-right: 0px;\">I</span><span style=\"background-color: #fff5f0; margin-right: 0px;\">·ad</span><span style=\"background-color: #fff5f0; margin-right: 0px;\">ore</span><span style=\"background-color: #fff5f0; margin-right: 0px;\">·your</span></div>"
      ],
      "text/plain": [
       "<IPython.core.display.HTML object>"
      ]
     },
     "metadata": {},
     "output_type": "display_data"
    },
    {
     "data": {
      "text/html": [
       "<div style=\"word-wrap: break-word; margin-bottom: 10px;\"><strong>Snippet number:</strong> 7<br><strong>Max activation:</strong> 5.980496883392334<br><span style=\"background-color: #fff5f0; margin-right: 0px;\"><|BOS|></span><span style=\"background-color: #fff5f0; margin-right: 0px;\">·manages</span><span style=\"background-color: #fff5f0; margin-right: 0px;\">·the</span><span style=\"background-color: #fff5f0; margin-right: 0px;\">·generation</span><span style=\"background-color: #fff5f0; margin-right: 0px;\">·and</span><span style=\"background-color: #fff5f0; margin-right: 0px;\">·modification</span><span style=\"background-color: #fff5f0; margin-right: 0px;\">·of</span><span style=\"background-color: #fff5f0; margin-right: 0px;\">↩\n",
       "···</span><span style=\"background-color: #fff5f0; margin-right: 0px;\">·models</span><span style=\"background-color: #fff5f0; margin-right: 0px;\">·for</span><span style=\"background-color: #fff5f0; margin-right: 0px;\">·G</span><span style=\"background-color: #fff5f0; margin-right: 0px;\">SS</span><span style=\"background-color: #fff5f0; margin-right: 0px;\">HA</span><span style=\"background-color: #fff5f0; margin-right: 0px;\">.</span><span style=\"background-color: #fff5f0; margin-right: 0px;\">↩\n",
       "↩\n",
       "···</span><span style=\"background-color: #fff5f0; margin-right: 0px;\">·Parameters</span><span style=\"background-color: #fff5f0; margin-right: 0px;\">:</span><span style=\"background-color: #fff5f0; margin-right: 0px;\">↩\n",
       "········</span><span style=\"background-color: #fff5f0; margin-right: 0px;\">·project</span><span style=\"background-color: #fff5f0; margin-right: 0px;\">_</span><span style=\"background-color: #fff5f0; margin-right: 0px;\">directory</span><span style=\"background-color: #fff5f0; margin-right: 0px;\">(</span><span style=\"background-color: #fff5f0; margin-right: 0px;\">str</span><span style=\"background-color: #fff5f0; margin-right: 0px;\">):</span><span style=\"background-color: #fff5f0; margin-right: 0px;\">·Directory</span><span style=\"background-color: #fff5f0; margin-right: 0px;\">·to</span><span style=\"background-color: #fff5f0; margin-right: 0px;\">·write</span><span style=\"background-color: #fff5f0; margin-right: 0px;\">·G</span><span style=\"background-color: #fff5f0; margin-right: 0px;\">SS</span><span style=\"background-color: #fff5f0; margin-right: 0px;\">HA</span><span style=\"background-color: #fff5f0; margin-right: 0px;\">·project</span><span style=\"background-color: #fff5f0; margin-right: 0px;\">·files</span><span style=\"background-color: #fff5f0; margin-right: 0px;\">·to</span><span style=\"background-color: #fff5f0; margin-right: 0px;\">.</span><span style=\"background-color: #fff5f0; margin-right: 0px;\">↩\n",
       "········</span><span style=\"background-color: #fff5f0; margin-right: 0px;\">·project</span><span style=\"background-color: #fff5f0; margin-right: 0px;\">_</span><span style=\"background-color: #fff5f0; margin-right: 0px;\">name</span><span style=\"background-color: #fff5f0; margin-right: 0px;\">(</span><span style=\"background-color: #fff5f0; margin-right: 0px;\">Optional</span><span style=\"background-color: #fff5f0; margin-right: 0px;\">[</span><span style=\"background-color: #fff5f0; margin-right: 0px;\">str</span><span style=\"background-color: #fff5f0; margin-right: 0px;\">]):</span><span style=\"background-color: #fff5f0; margin-right: 0px;\">·Name</span><span style=\"background-color: #fff5f0; margin-right: 0px;\">·of</span><span style=\"background-color: #fff5f0; margin-right: 0px;\">·G</span><span style=\"background-color: #fff5f0; margin-right: 0px;\">SS</span><span style=\"background-color: #fff5f0; margin-right: 0px;\">HA</span><span style=\"background-color: #fff5f0; margin-right: 0px;\">·project</span><span style=\"background-color: #fff5f0; margin-right: 0px;\">.</span><span style=\"background-color: #fff5f0; margin-right: 0px;\">·Required</span><span style=\"background-color: #fff5f0; margin-right: 0px;\">·for</span><span style=\"background-color: #fff5f0; margin-right: 0px;\">·new</span><span style=\"background-color: #fff5f0; margin-right: 0px;\">·model</span><span style=\"background-color: #fff5f0; margin-right: 0px;\">.</span><span style=\"background-color: #fff5f0; margin-right: 0px;\">↩\n",
       "········</span><span style=\"background-color: #fff5f0; margin-right: 0px;\">·mask</span><span style=\"background-color: #fff5f0; margin-right: 0px;\">_</span><span style=\"background-color: #fff5f0; margin-right: 0px;\">shape</span><span style=\"background-color: #fff5f0; margin-right: 0px;\">file</span><span style=\"background-color: #fff5f0; margin-right: 0px;\">(</span><span style=\"background-color: #fff5f0; margin-right: 0px;\">Optional</span><span style=\"background-color: #fff5f0; margin-right: 0px;\">[</span><span style=\"background-color: #fff5f0; margin-right: 0px;\">str</span><span style=\"background-color: #fff5f0; margin-right: 0px;\">]):</span><span style=\"background-color: #fff5f0; margin-right: 0px;\">·Path</span><span style=\"background-color: #fff5f0; margin-right: 0px;\">·to</span><span style=\"background-color: #fff5f0; margin-right: 0px;\">·watershed</span><span style=\"background-color: #fff5f0; margin-right: 0px;\">·boundary</span><span style=\"background-color: #fff5f0; margin-right: 0px;\">·shape</span><span style=\"background-color: #fff5f0; margin-right: 0px;\">file</span><span style=\"background-color: #fff5f0; margin-right: 0px;\">.</span><span style=\"background-color: #fff5f0; margin-right: 0px;\">·Required</span><span style=\"background-color: #fff5f0; margin-right: 0px;\">·for</span><span style=\"background-color: #fff5f0; margin-right: 0px;\">·new</span><span style=\"background-color: #fff5f0; margin-right: 0px;\">·model</span><span style=\"background-color: #fff5f0; margin-right: 0px;\">.</span><span style=\"background-color: #fff5f0; margin-right: 0px;\">↩\n",
       "········</span><span style=\"background-color: #fff5f0; margin-right: 0px;\">·auto</span><span style=\"background-color: #fff5f0; margin-right: 0px;\">_</span><span style=\"background-color: #fff5f0; margin-right: 0px;\">clean</span><span style=\"background-color: #fff5f0; margin-right: 0px;\">_</span><span style=\"background-color: #fff5f0; margin-right: 0px;\">mask</span><span style=\"background-color: #fff5f0; margin-right: 0px;\">_</span><span style=\"background-color: #fff5f0; margin-right: 0px;\">shape</span><span style=\"background-color: #fff5f0; margin-right: 0px;\">file</span><span style=\"background-color: #fff5f0; margin-right: 0px;\">(</span><span style=\"background-color: #fff5f0; margin-right: 0px;\">Optional</span><span style=\"background-color: #fff5f0; margin-right: 0px;\">[</span><span style=\"background-color: #fff5f0; margin-right: 0px;\">bool</span><span style=\"background-color: #fff5f0; margin-right: 0px;\">]):</span><span style=\"background-color: #fff5f0; margin-right: 0px;\">·Cho</span><span style=\"background-color: #fff5f0; margin-right: 0px;\">oses</span><span style=\"background-color: #fff5f0; margin-right: 0px;\">·the</span><span style=\"background-color: #f14432; margin-right: 0px;\">·largest</span><span style=\"background-color: #fff5f0; margin-right: 0px;\">·region</span><span style=\"background-color: #fff5f0; margin-right: 0px;\">·if</span><span style=\"background-color: #fff5f0; margin-right: 0px;\">·the</span><span style=\"background-color: #fff5f0; margin-right: 0px;\">·input</span><span style=\"background-color: #fff5f0; margin-right: 0px;\">·is</span><span style=\"background-color: #fff5f0; margin-right: 0px;\">·a</span><span style=\"background-color: #fff5f0; margin-right: 0px;\">·multip</span><span style=\"background-color: #fff5f0; margin-right: 0px;\">oly</span><span style=\"background-color: #fff5f0; margin-right: 0px;\">gon</span><span style=\"background-color: #fff5f0; margin-right: 0px;\">.</span><span style=\"background-color: #fff5f0; margin-right: 0px;\">·Default</span><span style=\"background-color: #fff5f0; margin-right: 0px;\">·is</span><span style=\"background-color: #fff5f0; margin-right: 0px;\">·False</span><span style=\"background-color: #fff5f0; margin-right: 0px;\">.</span><span style=\"background-color: #fff5f0; margin-right: 0px;\">↩\n",
       "········</span><span style=\"background-color: #fff5f0; margin-right: 0px;\">·grid</span><span style=\"background-color: #fff5f0; margin-right: 0px;\">_</span><span style=\"background-color: #fff5f0; margin-right: 0px;\">cell</span><span style=\"background-color: #fff5f0; margin-right: 0px;\">_</span><span style=\"background-color: #fff5f0; margin-right: 0px;\">size</span><span style=\"background-color: #fff5f0; margin-right: 0px;\">(</span><span style=\"background-color: #fff5f0; margin-right: 0px;\">Optional</span><span style=\"background-color: #fff5f0; margin-right: 0px;\">[</span><span style=\"background-color: #fff5f0; margin-right: 0px;\">str</span><span style=\"background-color: #fff5f0; margin-right: 0px;\">]):</span><span style=\"background-color: #fff5f0; margin-right: 0px;\">·Cell</span><span style=\"background-color: #fff5f0; margin-right: 0px;\">·size</span><span style=\"background-color: #fff5f0; margin-right: 0px;\">·of</span><span style=\"background-color: #fff5f0; margin-right: 0px;\">·model</span><span style=\"background-color: #fff5f0; margin-right: 0px;\">·(</span><span style=\"background-color: #fff5f0; margin-right: 0px;\">m</span><span style=\"background-color: #fff5f0; margin-right: 0px;\">eters</span><span style=\"background-color: #fff5f0; margin-right: 0px;\">).</span></div>"
      ],
      "text/plain": [
       "<IPython.core.display.HTML object>"
      ]
     },
     "metadata": {},
     "output_type": "display_data"
    },
    {
     "data": {
      "text/html": [
       "<div style=\"word-wrap: break-word; margin-bottom: 10px;\"><strong>Snippet number:</strong> 8<br><strong>Max activation:</strong> 5.640336990356445<br><span style=\"background-color: #fff5f0; margin-right: 0px;\"><|BOS|></span><span style=\"background-color: #fff5f0; margin-right: 0px;\">·assume</span><span style=\"background-color: #fff5f0; margin-right: 0px;\">·the</span><span style=\"background-color: #fff5f0; margin-right: 0px;\">·mantle</span><span style=\"background-color: #fff5f0; margin-right: 0px;\">·of</span><span style=\"background-color: #fff5f0; margin-right: 0px;\">·“</span><span style=\"background-color: #fff5f0; margin-right: 0px;\">the</span><span style=\"background-color: #fff5f0; margin-right: 0px;\">·next</span><span style=\"background-color: #fff5f0; margin-right: 0px;\">·big</span><span style=\"background-color: #fff5f0; margin-right: 0px;\">·thing</span><span style=\"background-color: #fff5f0; margin-right: 0px;\">.”</span><span style=\"background-color: #fff5f0; margin-right: 0px;\">·Suddenly</span><span style=\"background-color: #fff5f0; margin-right: 0px;\">,</span><span style=\"background-color: #fff5f0; margin-right: 0px;\">·they</span><span style=\"background-color: #fff5f0; margin-right: 0px;\">’</span><span style=\"background-color: #fff5f0; margin-right: 0px;\">re</span><span style=\"background-color: #fff5f0; margin-right: 0px;\">·not</span><span style=\"background-color: #fff5f0; margin-right: 0px;\">·just</span><span style=\"background-color: #fff5f0; margin-right: 0px;\">·building</span><span style=\"background-color: #fff5f0; margin-right: 0px;\">·a</span><span style=\"background-color: #fff5f0; margin-right: 0px;\">·product</span><span style=\"background-color: #fff5f0; margin-right: 0px;\">·and</span><span style=\"background-color: #fff5f0; margin-right: 0px;\">·running</span><span style=\"background-color: #fff5f0; margin-right: 0px;\">·a</span><span style=\"background-color: #fff5f0; margin-right: 0px;\">·company</span><span style=\"background-color: #fff5f0; margin-right: 0px;\">,</span><span style=\"background-color: #fff5f0; margin-right: 0px;\">·they</span><span style=\"background-color: #fff5f0; margin-right: 0px;\">’</span><span style=\"background-color: #fff5f0; margin-right: 0px;\">re</span><span style=\"background-color: #fff5f0; margin-right: 0px;\">·living</span><span style=\"background-color: #fff5f0; margin-right: 0px;\">·up</span><span style=\"background-color: #fff5f0; margin-right: 0px;\">·to</span><span style=\"background-color: #fff5f0; margin-right: 0px;\">·very</span><span style=\"background-color: #fff5f0; margin-right: 0px;\">·public</span><span style=\"background-color: #fff5f0; margin-right: 0px;\">·expectations</span><span style=\"background-color: #fff5f0; margin-right: 0px;\">.</span><span style=\"background-color: #fff5f0; margin-right: 0px;\">·“</span><span style=\"background-color: #fff5f0; margin-right: 0px;\">Now</span><span style=\"background-color: #fff5f0; margin-right: 0px;\">·if</span><span style=\"background-color: #fff5f0; margin-right: 0px;\">·your</span><span style=\"background-color: #fff5f0; margin-right: 0px;\">·product</span><span style=\"background-color: #fff5f0; margin-right: 0px;\">·launch</span><span style=\"background-color: #fff5f0; margin-right: 0px;\">·isn</span><span style=\"background-color: #fff5f0; margin-right: 0px;\">'t</span><span style=\"background-color: #fff5f0; margin-right: 0px;\">·working</span><span style=\"background-color: #fff5f0; margin-right: 0px;\">·very</span><span style=\"background-color: #fff5f0; margin-right: 0px;\">·well</span><span style=\"background-color: #fff5f0; margin-right: 0px;\">,</span><span style=\"background-color: #fff5f0; margin-right: 0px;\">·it</span><span style=\"background-color: #fff5f0; margin-right: 0px;\">·starts</span><span style=\"background-color: #fff5f0; margin-right: 0px;\">·to</span><span style=\"background-color: #fff5f0; margin-right: 0px;\">·threaten</span><span style=\"background-color: #fff5f0; margin-right: 0px;\">·that</span><span style=\"background-color: #fff5f0; margin-right: 0px;\">·identity</span><span style=\"background-color: #fff5f0; margin-right: 0px;\">.</span><span style=\"background-color: #fff5f0; margin-right: 0px;\">·Not</span><span style=\"background-color: #fff5f0; margin-right: 0px;\">·only</span><span style=\"background-color: #fff5f0; margin-right: 0px;\">·is</span><span style=\"background-color: #fff5f0; margin-right: 0px;\">·your</span><span style=\"background-color: #fff5f0; margin-right: 0px;\">·product</span><span style=\"background-color: #fff5f0; margin-right: 0px;\">·broken</span><span style=\"background-color: #fff5f0; margin-right: 0px;\">,</span><span style=\"background-color: #fff5f0; margin-right: 0px;\">·but</span><span style=\"background-color: #fff5f0; margin-right: 0px;\">·you</span><span style=\"background-color: #fff5f0; margin-right: 0px;\">’</span><span style=\"background-color: #fff5f0; margin-right: 0px;\">re</span><span style=\"background-color: #fff5f0; margin-right: 0px;\">·a</span><span style=\"background-color: #fff5f0; margin-right: 0px;\">·fraud</span><span style=\"background-color: #fff5f0; margin-right: 0px;\">,</span><span style=\"background-color: #fff5f0; margin-right: 0px;\">·a</span><span style=\"background-color: #fff5f0; margin-right: 0px;\">·common</span><span style=\"background-color: #fff5f0; margin-right: 0px;\">·human</span><span style=\"background-color: #fff5f0; margin-right: 0px;\">·fear</span><span style=\"background-color: #fff5f0; margin-right: 0px;\">.</span><span style=\"background-color: #fff5f0; margin-right: 0px;\">↩\n",
       "</span><span style=\"background-color: #fff5f0; margin-right: 0px;\">That</span><span style=\"background-color: #fff5f0; margin-right: 0px;\">’</span><span style=\"background-color: #fff5f0; margin-right: 0px;\">s</span><span style=\"background-color: #fff5f0; margin-right: 0px;\">·one</span><span style=\"background-color: #fff5f0; margin-right: 0px;\">·of</span><span style=\"background-color: #fff5f0; margin-right: 0px;\">·entrepreneurs</span><span style=\"background-color: #fff5f0; margin-right: 0px;\">’</span><span style=\"background-color: #f14432; margin-right: 0px;\">·biggest</span><span style=\"background-color: #fff5f0; margin-right: 0px;\">·fears</span><span style=\"background-color: #fff5f0; margin-right: 0px;\">:</span><span style=\"background-color: #fff5f0; margin-right: 0px;\">·I</span><span style=\"background-color: #fff5f0; margin-right: 0px;\">·went</span><span style=\"background-color: #fff5f0; margin-right: 0px;\">·out</span><span style=\"background-color: #fff5f0; margin-right: 0px;\">·there</span><span style=\"background-color: #fff5f0; margin-right: 0px;\">,</span><span style=\"background-color: #fff5f0; margin-right: 0px;\">·I</span><span style=\"background-color: #fff5f0; margin-right: 0px;\">·sold</span><span style=\"background-color: #fff5f0; margin-right: 0px;\">·all</span><span style=\"background-color: #fff5f0; margin-right: 0px;\">·these</span><span style=\"background-color: #fff5f0; margin-right: 0px;\">·friends</span><span style=\"background-color: #fff5f0; margin-right: 0px;\">·and</span><span style=\"background-color: #fff5f0; margin-right: 0px;\">·investors</span><span style=\"background-color: #fff5f0; margin-right: 0px;\">·on</span><span style=\"background-color: #fff5f0; margin-right: 0px;\">·the</span><span style=\"background-color: #fff5f0; margin-right: 0px;\">·next</span><span style=\"background-color: #fff5f0; margin-right: 0px;\">·big</span><span style=\"background-color: #fff5f0; margin-right: 0px;\">·thing</span><span style=\"background-color: #fff5f0; margin-right: 0px;\">,</span><span style=\"background-color: #fff5f0; margin-right: 0px;\">·and</span><span style=\"background-color: #fff5f0; margin-right: 0px;\">·it</span><span style=\"background-color: #fff5f0; margin-right: 0px;\">·didn</span><span style=\"background-color: #fff5f0; margin-right: 0px;\">’</span><span style=\"background-color: #fff5f0; margin-right: 0px;\">t</span><span style=\"background-color: #fff5f0; margin-right: 0px;\">·work</span><span style=\"background-color: #fff5f0; margin-right: 0px;\">.</span><span style=\"background-color: #fff5f0; margin-right: 0px;\">·I</span><span style=\"background-color: #fff5f0; margin-right: 0px;\">’</span><span style=\"background-color: #fff5f0; margin-right: 0px;\">m</span><span style=\"background-color: #fff5f0; margin-right: 0px;\">·a</span><span style=\"background-color: #fff5f0; margin-right: 0px;\">·fraud</span><span style=\"background-color: #fff5f0; margin-right: 0px;\">.</span><span style=\"background-color: #fff5f0; margin-right: 0px;\">↩\n",
       "</span><span style=\"background-color: #fff5f0; margin-right: 0px;\">The</span><span style=\"background-color: #fff5f0; margin-right: 0px;\">·Culture</span><span style=\"background-color: #fff5f0; margin-right: 0px;\">·of</span><span style=\"background-color: #fff5f0; margin-right: 0px;\">·Sc</span><span style=\"background-color: #fff5f0; margin-right: 0px;\">arc</span><span style=\"background-color: #fff5f0; margin-right: 0px;\">ity</span><span style=\"background-color: #fff5f0; margin-right: 0px;\">:</span><span style=\"background-color: #fff5f0; margin-right: 0px;\">·The</span><span style=\"background-color: #fff5f0; margin-right: 0px;\">·belief</span><span style=\"background-color: #fff5f0; margin-right: 0px;\">·system</span><span style=\"background-color: #fff5f0; margin-right: 0px;\">·that</span></div>"
      ],
      "text/plain": [
       "<IPython.core.display.HTML object>"
      ]
     },
     "metadata": {},
     "output_type": "display_data"
    },
    {
     "data": {
      "text/html": [
       "<div style=\"word-wrap: break-word; margin-bottom: 10px;\"><strong>Snippet number:</strong> 9<br><strong>Max activation:</strong> 4.576117992401123<br><span style=\"background-color: #fff5f0; margin-right: 0px;\"><|BOS|></span><span style=\"background-color: #fff5f0; margin-right: 0px;\">frame</span><span style=\"background-color: #fff5f0; margin-right: 0px;\">_</span><span style=\"background-color: #fff5f0; margin-right: 0px;\">id</span><span style=\"background-color: #fff5f0; margin-right: 0px;\">]</span><span style=\"background-color: #fff5f0; margin-right: 0px;\">·=</span><span style=\"background-color: #fff5f0; margin-right: 0px;\">·self</span><span style=\"background-color: #fff5f0; margin-right: 0px;\">.</span><span style=\"background-color: #f14432; margin-right: 0px;\">largest</span><span style=\"background-color: #fff5f0; margin-right: 0px;\">_</span><span style=\"background-color: #fff5f0; margin-right: 0px;\">ma</span><span style=\"background-color: #fff5f0; margin-right: 0px;\">ppings</span><span style=\"background-color: #fff5f0; margin-right: 0px;\">[</span><span style=\"background-color: #fff5f0; margin-right: 0px;\">0</span><span style=\"background-color: #fff5f0; margin-right: 0px;\">][</span><span style=\"background-color: #fff5f0; margin-right: 0px;\">frame</span><span style=\"background-color: #fff5f0; margin-right: 0px;\">_</span><span style=\"background-color: #fff5f0; margin-right: 0px;\">id</span><span style=\"background-color: #fff5f0; margin-right: 0px;\">]</span><span style=\"background-color: #fff5f0; margin-right: 0px;\">↩\n",
       "···········</span><span style=\"background-color: #ffeee7; margin-right: 0px;\">·global</span><span style=\"background-color: #fff5f0; margin-right: 0px;\">_</span><span style=\"background-color: #fff5f0; margin-right: 0px;\">id</span><span style=\"background-color: #fff5f0; margin-right: 0px;\">·=</span><span style=\"background-color: #fff5f0; margin-right: 0px;\">·self</span><span style=\"background-color: #fff5f0; margin-right: 0px;\">.</span><span style=\"background-color: #fff5f0; margin-right: 0px;\">mesh</span><span style=\"background-color: #fff5f0; margin-right: 0px;\">_</span><span style=\"background-color: #fff5f0; margin-right: 0px;\">one</span><span style=\"background-color: #fff5f0; margin-right: 0px;\">.</span><span style=\"background-color: #fff5f0; margin-right: 0px;\">get</span><span style=\"background-color: #fff5f0; margin-right: 0px;\">_</span><span style=\"background-color: #fff5f0; margin-right: 0px;\">element</span><span style=\"background-color: #fff5f0; margin-right: 0px;\">_</span><span style=\"background-color: #fff5f0; margin-right: 0px;\">with</span><span style=\"background-color: #fff5f0; margin-right: 0px;\">_</span><span style=\"background-color: #fff5f0; margin-right: 0px;\">frame</span><span style=\"background-color: #fff5f0; margin-right: 0px;\">_</span><span style=\"background-color: #fff5f0; margin-right: 0px;\">id</span><span style=\"background-color: #fff5f0; margin-right: 0px;\">(</span><span style=\"background-color: #fff5f0; margin-right: 0px;\">frame</span><span style=\"background-color: #fff5f0; margin-right: 0px;\">_</span><span style=\"background-color: #fff5f0; margin-right: 0px;\">id</span><span style=\"background-color: #fff5f0; margin-right: 0px;\">).</span><span style=\"background-color: #fff5f0; margin-right: 0px;\">global</span><span style=\"background-color: #fff5f0; margin-right: 0px;\">_</span><span style=\"background-color: #fff5f0; margin-right: 0px;\">id</span><span style=\"background-color: #fff5f0; margin-right: 0px;\">↩\n",
       "···········</span><span style=\"background-color: #fff5f0; margin-right: 0px;\">·try</span><span style=\"background-color: #fff5f0; margin-right: 0px;\">:</span><span style=\"background-color: #fff5f0; margin-right: 0px;\">↩\n",
       "···············</span><span style=\"background-color: #fff5f0; margin-right: 0px;\">·self</span><span style=\"background-color: #fff5f0; margin-right: 0px;\">.</span><span style=\"background-color: #fff5f0; margin-right: 0px;\">mesh</span><span style=\"background-color: #fff5f0; margin-right: 0px;\">_</span><span style=\"background-color: #fff5f0; margin-right: 0px;\">two</span><span style=\"background-color: #fff5f0; margin-right: 0px;\">.</span><span style=\"background-color: #fff5f0; margin-right: 0px;\">get</span><span style=\"background-color: #fff5f0; margin-right: 0px;\">_</span><span style=\"background-color: #fff5f0; margin-right: 0px;\">element</span><span style=\"background-color: #fff5f0; margin-right: 0px;\">_</span><span style=\"background-color: #fff5f0; margin-right: 0px;\">with</span><span style=\"background-color: #fff5f0; margin-right: 0px;\">_</span><span style=\"background-color: #fff5f0; margin-right: 0px;\">global</span><span style=\"background-color: #fff5f0; margin-right: 0px;\">_</span><span style=\"background-color: #fff5f0; margin-right: 0px;\">id</span><span style=\"background-color: #fff5f0; margin-right: 0px;\">(</span><span style=\"background-color: #fff5f0; margin-right: 0px;\">global</span><span style=\"background-color: #fff5f0; margin-right: 0px;\">_</span><span style=\"background-color: #fff5f0; margin-right: 0px;\">id</span><span style=\"background-color: #fff5f0; margin-right: 0px;\">).</span><span style=\"background-color: #fff5f0; margin-right: 0px;\">global</span><span style=\"background-color: #fff5f0; margin-right: 0px;\">_</span><span style=\"background-color: #fff5f0; margin-right: 0px;\">id</span><span style=\"background-color: #fff5f0; margin-right: 0px;\">·=</span><span style=\"background-color: #fff5f0; margin-right: 0px;\">·None</span><span style=\"background-color: #fff5f0; margin-right: 0px;\">↩\n",
       "···············</span><span style=\"background-color: #fff5f0; margin-right: 0px;\">·self</span><span style=\"background-color: #fff5f0; margin-right: 0px;\">.</span><span style=\"background-color: #fff5f0; margin-right: 0px;\">ma</span><span style=\"background-color: #fff5f0; margin-right: 0px;\">pped</span><span style=\"background-color: #fff5f0; margin-right: 0px;\">_</span><span style=\"background-color: #fff5f0; margin-right: 0px;\">ids</span><span style=\"background-color: #fff5f0; margin-right: 0px;\">.</span><span style=\"background-color: #fff5f0; margin-right: 0px;\">remove</span><span style=\"background-color: #fff5f0; margin-right: 0px;\">(</span><span style=\"background-color: #fff5f0; margin-right: 0px;\">global</span><span style=\"background-color: #fff5f0; margin-right: 0px;\">_</span><span style=\"background-color: #fff5f0; margin-right: 0px;\">id</span><span style=\"background-color: #fff5f0; margin-right: 0px;\">)</span><span style=\"background-color: #fff5f0; margin-right: 0px;\">↩\n",
       "···········</span><span style=\"background-color: #fff5f0; margin-right: 0px;\">·except</span><span style=\"background-color: #fff5f0; margin-right: 0px;\">·Key</span><span style=\"background-color: #fff5f0; margin-right: 0px;\">Error</span><span style=\"background-color: #fff5f0; margin-right: 0px;\">:</span><span style=\"background-color: #fff5f0; margin-right: 0px;\">↩\n",
       "···············</span><span style=\"background-color: #fff5f0; margin-right: 0px;\">·pass</span><span style=\"background-color: #fff5f0; margin-right: 0px;\">↩\n",
       "···········</span><span style=\"background-color: #fff5f0; margin-right: 0px;\">·self</span><span style=\"background-color: #fff5f0; margin-right: 0px;\">.</span><span style=\"background-color: #fff5f0; margin-right: 0px;\">mesh</span><span style=\"background-color: #fff5f0; margin-right: 0px;\">_</span><span style=\"background-color: #fff5f0; margin-right: 0px;\">one</span><span style=\"background-color: #fff5f0; margin-right: 0px;\">.</span><span style=\"background-color: #fff5f0; margin-right: 0px;\">get</span><span style=\"background-color: #fff5f0; margin-right: 0px;\">_</span><span style=\"background-color: #fff5f0; margin-right: 0px;\">element</span><span style=\"background-color: #fff5f0; margin-right: 0px;\">_</span><span style=\"background-color: #fff5f0; margin-right: 0px;\">with</span><span style=\"background-color: #fff5f0; margin-right: 0px;\">_</span><span style=\"background-color: #fff5f0; margin-right: 0px;\">frame</span><span style=\"background-color: #fff5f0; margin-right: 0px;\">_</span><span style=\"background-color: #fff5f0; margin-right: 0px;\">id</span><span style=\"background-color: #fff5f0; margin-right: 0px;\">(</span><span style=\"background-color: #fff5f0; margin-right: 0px;\">frame</span><span style=\"background-color: #fff5f0; margin-right: 0px;\">_</span><span style=\"background-color: #fff5f0; margin-right: 0px;\">id</span><span style=\"background-color: #fff5f0; margin-right: 0px;\">).</span><span style=\"background-color: #fff5f0; margin-right: 0px;\">global</span><span style=\"background-color: #fff5f0; margin-right: 0px;\">_</span><span style=\"background-color: #fff5f0; margin-right: 0px;\">id</span><span style=\"background-color: #fff5f0; margin-right: 0px;\">·=</span><span style=\"background-color: #fff5f0; margin-right: 0px;\">·None</span><span style=\"background-color: #fff5f0; margin-right: 0px;\">↩\n",
       "···········</span><span style=\"background-color: #fff5f0; margin-right: 0px;\">·try</span><span style=\"background-color: #fff5f0; margin-right: 0px;\">:</span><span style=\"background-color: #fff5f0; margin-right: 0px;\">↩\n",
       "···············</span><span style=\"background-color: #fff5f0; margin-right: 0px;\">·del</span></div>"
      ],
      "text/plain": [
       "<IPython.core.display.HTML object>"
      ]
     },
     "metadata": {},
     "output_type": "display_data"
    }
   ],
   "source": [
    "act_data = single_neuron(tokens=tokens, acts=feature_acts.reshape(-1, 128), ft_id=feature_id, model=model)\n",
    "\n",
    "def style_snippet(snippet_idx):\n",
    "    tokens_with_activations = act_data['snippets'][snippet_idx][\"token_activation_pairs\"]\n",
    "    max_act = act_data['snippets'][snippet_idx][\"max_activation\"]\n",
    "    \n",
    "    # Function to map activation to color\n",
    "    def activation_to_color(activation):\n",
    "        if activation < 0:\n",
    "            return '#FFFFFF'\n",
    "        normalized_activation = activation / max_act*0.6\n",
    "        return plt.cm.Reds(normalized_activation)\n",
    "    \n",
    "    styled_text = ''.join(f'<span style=\"background-color: {matplotlib.colors.rgb2hex(activation_to_color(activation))}; margin-right: 0px;\">{token}</span>'\n",
    "                          for token, activation in tokens_with_activations)\n",
    "    return styled_text\n",
    "\n",
    "print(\"feature id: \", feature_id)\n",
    "print()\n",
    "for i, snippet in enumerate(act_data['snippets']):\n",
    "    styled_text = style_snippet(i)\n",
    "    snippet_info = f'<div style=\"word-wrap: break-word; margin-bottom: 10px;\"><strong>Snippet number:</strong> {i}<br><strong>Max activation:</strong> {snippet[\"max_activation\"]}<br>{styled_text}</div>'\n",
    "    display(HTML(snippet_info))"
   ]
  },
  {
   "cell_type": "code",
   "execution_count": 65,
   "metadata": {},
   "outputs": [
    {
     "name": "stdout",
     "output_type": "stream",
     "text": [
      "feature id: 8 \n",
      "\n",
      "top\n",
      "['ellt', ' possible', 'inyl', ' offender', ' conceivable', ' feasible', 'oside', 'anos', ' eigenvalue', ' ever']\n",
      "tensor([0.7993, 0.6731, 0.6686, 0.6465, 0.6358, 0.6242, 0.6115, 0.6061, 0.5860,\n",
      "        0.5767])\n",
      "bottom\n",
      "['ferential', 'station', 'pone', 'imental', 'alty', 'ery', 'apache', 'our', 'ferencing', 'aving']\n",
      "tensor([-0.7037, -0.6754, -0.6661, -0.6542, -0.6505, -0.6458, -0.6368, -0.6343,\n",
      "        -0.6175, -0.6100])\n"
     ]
    }
   ],
   "source": [
    "# Direct logit attribution\n",
    "logit_attributions = sae.W_dec[feature_id] @ model.W_U\n",
    "\n",
    "top_idxs = torch.argsort(logit_attributions, descending=True)[:10]\n",
    "bottom_idxs = torch.argsort(logit_attributions, descending=False)[:10]\n",
    "top_tokens = [model.to_string([idx.item()]) for idx in top_idxs]\n",
    "bottom_tokens = [model.to_string([idx.item()]) for idx in bottom_idxs]\n",
    "\n",
    "print(f\"feature id: {feature_id} \\n\")\n",
    "print('top')\n",
    "print(top_tokens)\n",
    "print(logit_attributions[top_idxs])\n",
    "print('bottom')\n",
    "print(bottom_tokens)\n",
    "print(logit_attributions[bottom_idxs])"
   ]
  },
  {
   "cell_type": "code",
   "execution_count": 66,
   "metadata": {},
   "outputs": [
    {
     "name": "stdout",
     "output_type": "stream",
     "text": [
      "top_idxs: tensor([   8, 3701, 1284, 2459,  487, 2172, 3227,  724, 3151, 3759])\n",
      "sims: tensor([1.0000, 0.6181, 0.6180, 0.6176, 0.6154, 0.6096, 0.6092, 0.6090, 0.6076,\n",
      "        0.6046])\n"
     ]
    }
   ],
   "source": [
    "def find_cosine_sim(enc_vec, W_enc):\n",
    "    sims = torch.cosine_similarity(enc_vec.unsqueeze(0), W_enc.T, dim=1)\n",
    "\n",
    "    top_idxs = torch.argsort(sims, descending=True)[:10]\n",
    "    print('top_idxs:', top_idxs)\n",
    "    print('sims:', sims[top_idxs])\n",
    "\n",
    "\n",
    "find_cosine_sim(sae.W_enc[:, feature_id], sae.W_enc)\n"
   ]
  },
  {
   "cell_type": "code",
   "execution_count": 67,
   "metadata": {},
   "outputs": [
    {
     "name": "stdout",
     "output_type": "stream",
     "text": [
      "top_idxs: tensor([6532, 5369, 3945,  997,  545, 6111, 2006, 1477, 6590, 2312])\n",
      "sims: tensor([0.8124, 0.6751, 0.6404, 0.6340, 0.6333, 0.6315, 0.6296, 0.6277, 0.6265,\n",
      "        0.6253])\n"
     ]
    }
   ],
   "source": [
    "find_cosine_sim(sae.W_enc[:, feature_id], large_sae.W_enc)"
   ]
  },
  {
   "cell_type": "code",
   "execution_count": null,
   "metadata": {},
   "outputs": [],
   "source": []
  },
  {
   "cell_type": "code",
   "execution_count": null,
   "metadata": {},
   "outputs": [],
   "source": []
  }
 ],
 "metadata": {
  "kernelspec": {
   "display_name": ".venv",
   "language": "python",
   "name": "python3"
  },
  "language_info": {
   "codemirror_mode": {
    "name": "ipython",
    "version": 3
   },
   "file_extension": ".py",
   "mimetype": "text/x-python",
   "name": "python",
   "nbconvert_exporter": "python",
   "pygments_lexer": "ipython3",
   "version": "3.9.12"
  }
 },
 "nbformat": 4,
 "nbformat_minor": 2
}
